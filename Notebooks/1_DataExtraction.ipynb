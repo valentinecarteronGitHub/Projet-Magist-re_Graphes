{
 "cells": [
  {
   "cell_type": "markdown",
   "metadata": {},
   "source": [
    "# Importation des packages"
   ]
  },
  {
   "cell_type": "code",
   "execution_count": 1,
   "metadata": {},
   "outputs": [],
   "source": [
    "from loky import ProcessPoolExecutor\n",
    "import os\n",
    "import requests\n",
    "from bs4 import BeautifulSoup\n",
    "import sys\n",
    "import pandas as pd\n",
    "import numpy as np\n",
    "from datetime import datetime\n",
    "import re\n",
    "from itertools import chain\n",
    "import time"
   ]
  },
  {
   "cell_type": "markdown",
   "metadata": {},
   "source": [
    "# Définition de fonctions"
   ]
  },
  {
   "cell_type": "markdown",
   "metadata": {},
   "source": [
    "### Les \"mapper\" pour récupérer les `id_titles`"
   ]
  },
  {
   "cell_type": "code",
   "execution_count": 3,
   "metadata": {},
   "outputs": [],
   "source": [
    "def mapper_id_titles(url):\n",
    "    response = requests.get(url)\n",
    "    BS = (BeautifulSoup(response.text)\n",
    "          .select(\"html body main div#filterContainer.container.pt-2 div.row div.col-sm-6.col-lg-3.mb-3 div.poster-container a.poster-link\"))\n",
    "    return [i.get('href') for i in BS]"
   ]
  },
  {
   "cell_type": "code",
   "execution_count": 4,
   "metadata": {
    "scrolled": true
   },
   "outputs": [],
   "source": [
    "# mapper_id_titles('https://fr.flixable.com/genre/{}/?min-rating=0&min-year=1920&max-year=2019&order=title&page=1')"
   ]
  },
  {
   "cell_type": "markdown",
   "metadata": {},
   "source": [
    "### Parallélisation pour récupérer les `id_titles`"
   ]
  },
  {
   "cell_type": "code",
   "execution_count": 5,
   "metadata": {},
   "outputs": [],
   "source": [
    "def all_id_title(key):\n",
    "    with ProcessPoolExecutor() as epool:\n",
    "        mapped_values = epool.map(mapper_id_titles, key)\n",
    "    return list(chain(*mapped_values))"
   ]
  },
  {
   "cell_type": "markdown",
   "metadata": {},
   "source": [
    "### Les \"mapper\" sur le site `flixable.com`"
   ]
  },
  {
   "cell_type": "code",
   "execution_count": 6,
   "metadata": {},
   "outputs": [],
   "source": [
    "def mapper_flixable(id_title):\n",
    "    flixable = \"https://fr.flixable.com\" + id_title\n",
    "    response = requests.get(flixable)\n",
    "    \n",
    "    nom = (BeautifulSoup(response.text)\n",
    "           .select(\"html body main div.container.mt-4 div.row.mb-3 div.col-12 h1.mb-3\")[0]\n",
    "           .text.split(\"\\n\")[1].strip())\n",
    "    \n",
    "    inter = (BeautifulSoup(response.text)\n",
    "             .select(\"div[class='col-md-8 mb-3'] span[class=imdbRatingPlugin] a\"))\n",
    "    if len(inter):\n",
    "        lien_IMDb = inter[0]['href']\n",
    "    else:\n",
    "        lien_IMDb = \"\"\n",
    "        \n",
    "    inter = (BeautifulSoup(response.text)\n",
    "             .select(\"html body main div.container.mt-4 div.row.mb-3 div.col-md-8.mb-3 div.mb-2 span a\"))\n",
    "    inter = [\"\".join(re.findall(r'.*/actor/.*',str(i))) for i in inter]\n",
    "    inter = [i for i in inter if i!=\"\"]\n",
    "    casting = \"|#|\".join([\"\".join(re.findall(r'.*>(.*)</a>',i))for i in inter])\n",
    "    \n",
    "    date_ajout = (BeautifulSoup(response.text)\n",
    "                  .select(\"div.mb-4 > span:nth-child(2)\"))[0].text\n",
    "    \n",
    "    return (nom, lien_IMDb, casting, date_ajout)"
   ]
  },
  {
   "cell_type": "code",
   "execution_count": 7,
   "metadata": {},
   "outputs": [],
   "source": [
    "# mapper_flixable(\"/title/70301585/\")"
   ]
  },
  {
   "cell_type": "markdown",
   "metadata": {},
   "source": [
    "### Parallélisation pour récupérer les données sur le site `flixable.com`"
   ]
  },
  {
   "cell_type": "code",
   "execution_count": 8,
   "metadata": {},
   "outputs": [],
   "source": [
    "def all_flixable(key):\n",
    "    with ProcessPoolExecutor() as epool:\n",
    "        mapped_values_flixable = epool.map(mapper_flixable, key)\n",
    "    return list(mapped_values_flixable)"
   ]
  },
  {
   "cell_type": "markdown",
   "metadata": {},
   "source": [
    "### Les \"mapper\" sur le site `netflix.com/fr`"
   ]
  },
  {
   "cell_type": "code",
   "execution_count": 9,
   "metadata": {},
   "outputs": [],
   "source": [
    "def mapper_netflix(id_title):\n",
    "    netflix = \"https://www.netflix.com/fr\" + id_title\n",
    "    response = requests.get(netflix)\n",
    "    \n",
    "    inter = (BeautifulSoup(response.text)\n",
    "             .select(\"a.title-info-metadata-item\"))\n",
    "    genre1 = [i.text.strip().strip(',').replace('\\xa0', ' ') for i in inter]\n",
    "    \n",
    "    inter = (BeautifulSoup(response.text)\n",
    "             .select(\".cell-genres > div:nth-child(2) > span\"))\n",
    "    genre2 = [i.text.strip().strip(',').replace('\\xa0', ' ') for i in inter]\n",
    "    \n",
    "    genre = \"|#|\".join(set(genre1+genre2))\n",
    "    \n",
    "    test = BeautifulSoup(response.text).select(\"#section-more-details\")[0].text\n",
    "    if not re.search(r'.*Ce (?:programme|film) est\\.\\.\\..*', test):\n",
    "        tag = \"\"\n",
    "    else:\n",
    "        inter = BeautifulSoup(response.text).select(\"div.more-details-cell div span[class$=tag]\")\n",
    "        tag = \"|#|\".join([i.text.strip().strip(',').replace('\\xa0', ' ') for i in inter])\n",
    "        \n",
    "    inter = BeautifulSoup(response.text).select(\".link-container a\")\n",
    "    relative = \"|#|\".join([i['href'].strip('/fr') for i in inter])\n",
    "    \n",
    "    return (genre, tag, relative)"
   ]
  },
  {
   "cell_type": "code",
   "execution_count": 10,
   "metadata": {},
   "outputs": [],
   "source": [
    "# mapper_netflix(\"/title/70301585/\")"
   ]
  },
  {
   "cell_type": "markdown",
   "metadata": {},
   "source": [
    "### Parallélisation pour récupérer les données sur `netflix.com/fr`"
   ]
  },
  {
   "cell_type": "code",
   "execution_count": 11,
   "metadata": {},
   "outputs": [],
   "source": [
    "def all_netflix(key):\n",
    "    with ProcessPoolExecutor() as epool:\n",
    "        mapped_values_netflix = epool.map(mapper_netflix, key)\n",
    "    return list(mapped_values_netflix)"
   ]
  },
  {
   "cell_type": "markdown",
   "metadata": {},
   "source": [
    "### Les \"mapper\" sur le site `imdb.com`"
   ]
  },
  {
   "cell_type": "code",
   "execution_count": 12,
   "metadata": {},
   "outputs": [],
   "source": [
    "def mapper_rating_IMDb(id_IMDb):\n",
    "    if id_IMDb==\"\":\n",
    "        return \"\"\n",
    "    else:\n",
    "        response = requests.get(id_IMDb)\n",
    "        BS = (BeautifulSoup(response.text)\n",
    "              .select(\".ratingValue > strong:nth-child(1) > span:nth-child(1)\"))\n",
    "        if len(BS):\n",
    "            return float(BS[0].text)\n",
    "        else:\n",
    "            return \"\""
   ]
  },
  {
   "cell_type": "code",
   "execution_count": 13,
   "metadata": {},
   "outputs": [],
   "source": [
    "# mapper_rating_IMDb(\"https://www.imdb.com/title/tt3656200/?ref_=plg_rt_1\")"
   ]
  },
  {
   "cell_type": "markdown",
   "metadata": {},
   "source": [
    "### Parallélisation pour récupérer les données sur `imdb.com`"
   ]
  },
  {
   "cell_type": "code",
   "execution_count": 14,
   "metadata": {},
   "outputs": [],
   "source": [
    "def all_rating_IMDb(key):\n",
    "    with ProcessPoolExecutor() as epool:\n",
    "        mapped_values_rating_IMDb = epool.map(mapper_rating_IMDb, key)\n",
    "    return list(mapped_values_rating_IMDb)"
   ]
  },
  {
   "cell_type": "markdown",
   "metadata": {},
   "source": [
    "# Récupération des données"
   ]
  },
  {
   "cell_type": "markdown",
   "metadata": {},
   "source": [
    "### Récupération du nombre de pages sur le site `flixable.com`"
   ]
  },
  {
   "cell_type": "code",
   "execution_count": 15,
   "metadata": {},
   "outputs": [
    {
     "data": {
      "text/plain": [
       "{'films': 64, 'series-tv': 36}"
      ]
     },
     "execution_count": 15,
     "metadata": {},
     "output_type": "execute_result"
    }
   ],
   "source": [
    "url = \"https://fr.flixable.com/genre/{}/?min-rating=0&min-year=1920&max-year=2020&order=title#filterContainer\"\n",
    "types = [\"films\", \"series-tv\"]\n",
    "number_of_pages = {}\n",
    "\n",
    "for elem in types:\n",
    "    response = requests.get(url.format(elem))\n",
    "    BS = BeautifulSoup(response.text).select(\"li.page-item:nth-child(7) > a:nth-child(1)\")[0]\n",
    "    number_of_pages[elem] = int(BS.get_text())\n",
    "\n",
    "number_of_pages"
   ]
  },
  {
   "cell_type": "markdown",
   "metadata": {},
   "source": [
    "### Récupération des urls du site `flixable.com`"
   ]
  },
  {
   "cell_type": "code",
   "execution_count": 16,
   "metadata": {
    "scrolled": true
   },
   "outputs": [],
   "source": [
    "url = \"https://fr.flixable.com/genre/{}/?min-rating=0&min-year=1920&max-year=2019&order=title&page=\"\n",
    "urls = {}\n",
    "\n",
    "for elem in types:\n",
    "    N = number_of_pages[elem]\n",
    "    urls[elem] = [url.format(elem) + str(i+1) for i in range(N)]"
   ]
  },
  {
   "cell_type": "code",
   "execution_count": 17,
   "metadata": {},
   "outputs": [
    {
     "name": "stdout",
     "output_type": "stream",
     "text": [
      "films : ['https://fr.flixable.com/genre/films/?min-rating=0&min-year=1920&max-year=2019&order=title&page=1', 'https://fr.flixable.com/genre/films/?min-rating=0&min-year=1920&max-year=2019&order=title&page=2']\n",
      "\n",
      "series-tv : ['https://fr.flixable.com/genre/series-tv/?min-rating=0&min-year=1920&max-year=2019&order=title&page=1', 'https://fr.flixable.com/genre/series-tv/?min-rating=0&min-year=1920&max-year=2019&order=title&page=2']\n",
      "\n"
     ]
    }
   ],
   "source": [
    "for key, value in urls.items():\n",
    "    print(\"{} : {}\\n\".format(key,value[:2]))"
   ]
  },
  {
   "cell_type": "markdown",
   "metadata": {},
   "source": [
    "### Récupération des `id_titles`"
   ]
  },
  {
   "cell_type": "code",
   "execution_count": 18,
   "metadata": {
    "scrolled": true
   },
   "outputs": [
    {
     "name": "stdout",
     "output_type": "stream",
     "text": [
      "Wall time: 10.8 s\n"
     ]
    }
   ],
   "source": [
    "%%time\n",
    "id_titles = {}\n",
    "for key in types:\n",
    "    id_titles[key] = all_id_title(urls[key])\n",
    "    \n",
    "#(~10s)"
   ]
  },
  {
   "cell_type": "code",
   "execution_count": 19,
   "metadata": {},
   "outputs": [
    {
     "name": "stdout",
     "output_type": "stream",
     "text": [
      "Pour les films, ils y en a 2537\n",
      "\n",
      "Pour les series-tv, ils y en a 1429\n",
      "\n"
     ]
    }
   ],
   "source": [
    "for key, value in id_titles.items():\n",
    "    print(\"Pour les {}, ils y en a {}\\n\".format(key,len(value)))"
   ]
  },
  {
   "cell_type": "code",
   "execution_count": 20,
   "metadata": {},
   "outputs": [
    {
     "name": "stdout",
     "output_type": "stream",
     "text": [
      "films : ['/title/80997613/', '/title/70301585/']\n",
      "\n",
      "series-tv : ['/title/80234414/', '/title/80029823/']\n",
      "\n"
     ]
    }
   ],
   "source": [
    "for key, value in id_titles.items():\n",
    "    print(\"{} : {}\\n\".format(key,value[:2]))"
   ]
  },
  {
   "cell_type": "code",
   "execution_count": 21,
   "metadata": {},
   "outputs": [],
   "source": [
    "urls_films = id_titles['films']\n",
    "urls_series = id_titles['series-tv']\n",
    "numero_titres = urls_films + urls_series"
   ]
  },
  {
   "cell_type": "markdown",
   "metadata": {},
   "source": [
    "### Récupération des données sur le site `flixable.com`"
   ]
  },
  {
   "cell_type": "code",
   "execution_count": 22,
   "metadata": {
    "scrolled": true
   },
   "outputs": [
    {
     "name": "stdout",
     "output_type": "stream",
     "text": [
      "Wall time: 6min 12s\n"
     ]
    }
   ],
   "source": [
    "%%time\n",
    "data_flixable = {}\n",
    "for key in types:\n",
    "    data_flixable[key] = all_flixable(id_titles[key])\n",
    "    \n",
    "#(~6min10)"
   ]
  },
  {
   "cell_type": "code",
   "execution_count": 23,
   "metadata": {},
   "outputs": [
    {
     "name": "stdout",
     "output_type": "stream",
     "text": [
      "films : [('¡Ay, mi madre!', 'https://www.imdb.com/title/tt6213294/?ref_=plg_rt_1', 'Estefanía de los Santos|#|Secun de la Rosa|#|Terele Pávez|#|María Alfonsa Rosso|#|Mariola Fuentes|#|Alfonso Sánchez|#|Paz Vega|#|Marta Torné|#|Concha Galán', '19/7/2019'), (\"'71\", 'https://www.imdb.com/title/tt2614684/?ref_=plg_rt_1', \"Charlie Murphy|#|Paul Anderson|#|Sam Reid|#|Richard Dormer|#|Sean Harris|#|Killian Scott|#|Martin McCann|#|Corey McKinley|#|David Wilmot|#|Jack O'Connell|#|Charlie Murphy|#|Paul W.S. Anderson|#|Sam Hazeldine\", '1/12/2018')]\n",
      "\n",
      "series-tv : [('100% Hotter', 'https://www.imdb.com/title/tt5819414/?ref_=plg_rt_1', 'Daniel Palmer|#|Melissa Sophia|#|Grace Woodward|#|Karen Williams', '1/8/2019'), ('12 Monkeys', 'https://www.imdb.com/title/tt3148266/?ref_=plg_rt_1', 'Aaron Stanford|#|Amanda Schull|#|Kirk Acevedo|#|Noah Bean|#|Emily Hampshire|#|Barbara Sukowa|#|Todd Stashwick|#|Tom Noonan|#|Zeljko Ivanek', '1/10/2019')]\n",
      "\n"
     ]
    }
   ],
   "source": [
    "for key, value in data_flixable.items():\n",
    "    print(\"{} : {}\\n\".format(key,value[:2]))"
   ]
  },
  {
   "cell_type": "code",
   "execution_count": 24,
   "metadata": {},
   "outputs": [],
   "source": [
    "infos_flixable = []\n",
    "\n",
    "for elem in data_flixable.values():\n",
    "    infos_flixable += elem"
   ]
  },
  {
   "cell_type": "code",
   "execution_count": 25,
   "metadata": {},
   "outputs": [],
   "source": [
    "title = []\n",
    "urls_IMDb = []\n",
    "casting = []\n",
    "date_ajout = []\n",
    "\n",
    "for elem in infos_flixable:\n",
    "    title.append(elem[0])\n",
    "    urls_IMDb.append(elem[1])\n",
    "    casting.append(elem[2])\n",
    "    date_ajout.append(elem[3])"
   ]
  },
  {
   "cell_type": "code",
   "execution_count": 26,
   "metadata": {},
   "outputs": [
    {
     "data": {
      "text/plain": [
       "(['film', 'film', 'film', 'film', 'film'],\n",
       " ['série', 'série', 'série', 'série', 'série'])"
      ]
     },
     "execution_count": 26,
     "metadata": {},
     "output_type": "execute_result"
    }
   ],
   "source": [
    "types_media = ['film']*len(urls_films) + ['série']*len(urls_series)\n",
    "types_media[:5],types_media[-5:]"
   ]
  },
  {
   "cell_type": "markdown",
   "metadata": {},
   "source": [
    "### Récupération des données sur le site `netflix.com/fr`"
   ]
  },
  {
   "cell_type": "markdown",
   "metadata": {
    "scrolled": true
   },
   "source": [
    "Ne fonctionne pas car trop de requests en même temps donc Netflix bloque\n",
    "```\n",
    "%%time\n",
    "data_netflix = {}\n",
    "for key in types:\n",
    "    data_netflix[key] = all_netflix(id_titles[key])\n",
    "```"
   ]
  },
  {
   "cell_type": "code",
   "execution_count": 28,
   "metadata": {},
   "outputs": [
    {
     "name": "stdout",
     "output_type": "stream",
     "text": [
      "Wall time: 1h 3min 45s\n"
     ]
    }
   ],
   "source": [
    "%%time\n",
    "infos_netflix = []\n",
    "URLS = urls_films + urls_series\n",
    "\n",
    "for elem in URLS:\n",
    "    infos_netflix.append(mapper_netflix(elem))\n",
    "\n",
    "#(~1h05min)"
   ]
  },
  {
   "cell_type": "code",
   "execution_count": 36,
   "metadata": {},
   "outputs": [],
   "source": [
    "genres = []\n",
    "tags = []\n",
    "relative = []\n",
    "\n",
    "for elem in infos_netflix:\n",
    "    genres.append(elem[0])\n",
    "    tags.append(elem[1])\n",
    "    relative.append(elem[2])"
   ]
  },
  {
   "cell_type": "markdown",
   "metadata": {},
   "source": [
    "### Récupération des données sur le site `imdb.com`"
   ]
  },
  {
   "cell_type": "code",
   "execution_count": 30,
   "metadata": {
    "scrolled": true
   },
   "outputs": [
    {
     "ename": "NameError",
     "evalue": "name 'ratings' is not defined",
     "output_type": "error",
     "traceback": [
      "\u001b[1;31m---------------------------------------------------------------------------\u001b[0m",
      "\u001b[1;31mNameError\u001b[0m                                 Traceback (most recent call last)",
      "\u001b[1;32m<timed exec>\u001b[0m in \u001b[0;36m<module>\u001b[1;34m\u001b[0m\n",
      "\u001b[1;31mNameError\u001b[0m: name 'ratings' is not defined"
     ]
    }
   ],
   "source": [
    "%%time\n",
    "rating = all_rating_IMDb(urls_IMDb)\n",
    "rating[:10]\n",
    "#(~9min)"
   ]
  },
  {
   "cell_type": "markdown",
   "metadata": {},
   "source": [
    "# Création du dataframe"
   ]
  },
  {
   "cell_type": "code",
   "execution_count": 37,
   "metadata": {},
   "outputs": [],
   "source": [
    "data = {\"Titre\": title, \"Genres Netflix\" : genres,\n",
    "        \"Tags Netflix\" : tags, \"Casting\" : casting,\n",
    "        \"Note IMDb\" : rating, \"Films/Séries liés\" : relative,\n",
    "        \"Date d'ajout\" : date_ajout, \"Lien Netflix\" : numero_titres,\n",
    "        \"Type\" : types_media}\n",
    "\n",
    "BDD_Netflix = pd.DataFrame(data)"
   ]
  },
  {
   "cell_type": "code",
   "execution_count": 40,
   "metadata": {},
   "outputs": [],
   "source": [
    "def string_to_datetime(valeur):\n",
    "    return datetime.strptime(valeur, '%d/%m/%Y')\n",
    "\n",
    "BDD_Netflix[\"Date d'ajout\"] = BDD_Netflix[\"Date d'ajout\"].apply(string_to_datetime)       "
   ]
  },
  {
   "cell_type": "code",
   "execution_count": 41,
   "metadata": {},
   "outputs": [],
   "source": [
    "def list_to_string(valeur):\n",
    "    if valeur==\"\":\n",
    "        return np.nan\n",
    "    else:\n",
    "        return valeur\n",
    "\n",
    "BDD_Netflix[\"Tags Netflix\"] = BDD_Netflix[\"Tags Netflix\"].apply(list_to_string)\n",
    "BDD_Netflix[\"Note IMDb\"] = BDD_Netflix[\"Note IMDb\"].apply(list_to_string)\n",
    "BDD_Netflix[\"Casting\"] = BDD_Netflix[\"Casting\"].apply(list_to_string)\n",
    "BDD_Netflix[\"Films/Séries liés\"] = BDD_Netflix[\"Films/Séries liés\"].apply(list_to_string)"
   ]
  },
  {
   "cell_type": "code",
   "execution_count": 45,
   "metadata": {
    "scrolled": true
   },
   "outputs": [
    {
     "data": {
      "text/html": [
       "<div>\n",
       "<style scoped>\n",
       "    .dataframe tbody tr th:only-of-type {\n",
       "        vertical-align: middle;\n",
       "    }\n",
       "\n",
       "    .dataframe tbody tr th {\n",
       "        vertical-align: top;\n",
       "    }\n",
       "\n",
       "    .dataframe thead th {\n",
       "        text-align: right;\n",
       "    }\n",
       "</style>\n",
       "<table border=\"1\" class=\"dataframe\">\n",
       "  <thead>\n",
       "    <tr style=\"text-align: right;\">\n",
       "      <th></th>\n",
       "      <th>Titre</th>\n",
       "      <th>Genres Netflix</th>\n",
       "      <th>Tags Netflix</th>\n",
       "      <th>Casting</th>\n",
       "      <th>Note IMDb</th>\n",
       "      <th>Films/Séries liés</th>\n",
       "      <th>Date d'ajout</th>\n",
       "      <th>Lien Netflix</th>\n",
       "      <th>Type</th>\n",
       "    </tr>\n",
       "  </thead>\n",
       "  <tbody>\n",
       "    <tr>\n",
       "      <th>0</th>\n",
       "      <td>¡Ay, mi madre!</td>\n",
       "      <td>Comédies|#|Films espagnols</td>\n",
       "      <td>Sentimental</td>\n",
       "      <td>Estefanía de los Santos|#|Secun de la Rosa|#|T...</td>\n",
       "      <td>3.8</td>\n",
       "      <td>title/80230423|#|title/80103425|#|title/802355...</td>\n",
       "      <td>2019-07-19</td>\n",
       "      <td>/title/80997613/</td>\n",
       "      <td>film</td>\n",
       "    </tr>\n",
       "    <tr>\n",
       "      <th>1</th>\n",
       "      <td>'71</td>\n",
       "      <td>Action et aventure|#|Thrillers d'action|#|Film...</td>\n",
       "      <td>Violent</td>\n",
       "      <td>Charlie Murphy|#|Paul Anderson|#|Sam Reid|#|Ri...</td>\n",
       "      <td>7.2</td>\n",
       "      <td>title/80118916|#|title/80041653|#|title/801335...</td>\n",
       "      <td>2018-12-01</td>\n",
       "      <td>/title/70301585/</td>\n",
       "      <td>film</td>\n",
       "    </tr>\n",
       "    <tr>\n",
       "      <th>2</th>\n",
       "      <td>#Horror</td>\n",
       "      <td>Films indépendants|#|Films d'horreur</td>\n",
       "      <td>Suspense</td>\n",
       "      <td>Chloë Sevigny|#|Timothy Hutton|#|Natasha Lyonn...</td>\n",
       "      <td>3.0</td>\n",
       "      <td>title/70060008|#|title/80026887|#|title/800946...</td>\n",
       "      <td>2016-04-30</td>\n",
       "      <td>/title/80074904/</td>\n",
       "      <td>film</td>\n",
       "    </tr>\n",
       "    <tr>\n",
       "      <th>3</th>\n",
       "      <td>#realityhigh</td>\n",
       "      <td>Films pour ados|#|Comédies</td>\n",
       "      <td>NaN</td>\n",
       "      <td>Nesta Cooper|#|Kate Walsh|#|John Michael Higgi...</td>\n",
       "      <td>5.2</td>\n",
       "      <td>title/80239639|#|title/81019888|#|title/801435...</td>\n",
       "      <td>2017-09-08</td>\n",
       "      <td>/title/80125979/</td>\n",
       "      <td>film</td>\n",
       "    </tr>\n",
       "    <tr>\n",
       "      <th>4</th>\n",
       "      <td>#Rucker50</td>\n",
       "      <td>Films documentaires|#|Documentaires historique...</td>\n",
       "      <td>NaN</td>\n",
       "      <td>NaN</td>\n",
       "      <td>5.4</td>\n",
       "      <td>title/80011846|#|title/80223149|#|title/801426...</td>\n",
       "      <td>2016-11-30</td>\n",
       "      <td>/title/80147908/</td>\n",
       "      <td>film</td>\n",
       "    </tr>\n",
       "  </tbody>\n",
       "</table>\n",
       "</div>"
      ],
      "text/plain": [
       "            Titre                                     Genres Netflix  \\\n",
       "0  ¡Ay, mi madre!                         Comédies|#|Films espagnols   \n",
       "1             '71  Action et aventure|#|Thrillers d'action|#|Film...   \n",
       "2         #Horror               Films indépendants|#|Films d'horreur   \n",
       "3    #realityhigh                         Films pour ados|#|Comédies   \n",
       "4       #Rucker50  Films documentaires|#|Documentaires historique...   \n",
       "\n",
       "  Tags Netflix                                            Casting  Note IMDb  \\\n",
       "0  Sentimental  Estefanía de los Santos|#|Secun de la Rosa|#|T...        3.8   \n",
       "1      Violent  Charlie Murphy|#|Paul Anderson|#|Sam Reid|#|Ri...        7.2   \n",
       "2     Suspense  Chloë Sevigny|#|Timothy Hutton|#|Natasha Lyonn...        3.0   \n",
       "3          NaN  Nesta Cooper|#|Kate Walsh|#|John Michael Higgi...        5.2   \n",
       "4          NaN                                                NaN        5.4   \n",
       "\n",
       "                                   Films/Séries liés Date d'ajout  \\\n",
       "0  title/80230423|#|title/80103425|#|title/802355...   2019-07-19   \n",
       "1  title/80118916|#|title/80041653|#|title/801335...   2018-12-01   \n",
       "2  title/70060008|#|title/80026887|#|title/800946...   2016-04-30   \n",
       "3  title/80239639|#|title/81019888|#|title/801435...   2017-09-08   \n",
       "4  title/80011846|#|title/80223149|#|title/801426...   2016-11-30   \n",
       "\n",
       "       Lien Netflix  Type  \n",
       "0  /title/80997613/  film  \n",
       "1  /title/70301585/  film  \n",
       "2  /title/80074904/  film  \n",
       "3  /title/80125979/  film  \n",
       "4  /title/80147908/  film  "
      ]
     },
     "execution_count": 45,
     "metadata": {},
     "output_type": "execute_result"
    }
   ],
   "source": [
    "BDD_Netflix.head()"
   ]
  },
  {
   "cell_type": "code",
   "execution_count": 50,
   "metadata": {},
   "outputs": [
    {
     "data": {
      "text/html": [
       "<div>\n",
       "<style scoped>\n",
       "    .dataframe tbody tr th:only-of-type {\n",
       "        vertical-align: middle;\n",
       "    }\n",
       "\n",
       "    .dataframe tbody tr th {\n",
       "        vertical-align: top;\n",
       "    }\n",
       "\n",
       "    .dataframe thead th {\n",
       "        text-align: right;\n",
       "    }\n",
       "</style>\n",
       "<table border=\"1\" class=\"dataframe\">\n",
       "  <thead>\n",
       "    <tr style=\"text-align: right;\">\n",
       "      <th></th>\n",
       "      <th>Titre</th>\n",
       "      <th>Genres Netflix</th>\n",
       "      <th>Tags Netflix</th>\n",
       "      <th>Casting</th>\n",
       "      <th>Note IMDb</th>\n",
       "      <th>Films/Séries liés</th>\n",
       "      <th>Date d'ajout</th>\n",
       "      <th>Lien Netflix</th>\n",
       "      <th>Type</th>\n",
       "    </tr>\n",
       "  </thead>\n",
       "  <tbody>\n",
       "    <tr>\n",
       "      <th>3961</th>\n",
       "      <td>Zoo</td>\n",
       "      <td>Séries inspirées de livres|#|Thrillers TV|#|Sé...</td>\n",
       "      <td>Suspense|#|Palpitant</td>\n",
       "      <td>James Wolk|#|Kristen Connolly|#|Nonso Anozie|#...</td>\n",
       "      <td>6.8</td>\n",
       "      <td>title/80105699|#|title/80097140|#|title/702809...</td>\n",
       "      <td>2019-06-29</td>\n",
       "      <td>/title/80011206/</td>\n",
       "      <td>série</td>\n",
       "    </tr>\n",
       "    <tr>\n",
       "      <th>3962</th>\n",
       "      <td>Zou les ours</td>\n",
       "      <td>Séries russes|#|Pour enfants</td>\n",
       "      <td>NaN</td>\n",
       "      <td>Nataliya Medvedeva|#|Polina Kutepova</td>\n",
       "      <td>7.7</td>\n",
       "      <td>title/81099996|#|title/80045811|#|title/801896...</td>\n",
       "      <td>2018-07-27</td>\n",
       "      <td>/title/80226619/</td>\n",
       "      <td>série</td>\n",
       "    </tr>\n",
       "    <tr>\n",
       "      <th>3963</th>\n",
       "      <td>Zumbo's Just Desserts</td>\n",
       "      <td>Divertissement, variété et talk-shows|#|Séries...</td>\n",
       "      <td>Palpitant</td>\n",
       "      <td>Adriano Zumbo|#|Rachel Khoo</td>\n",
       "      <td>6.9</td>\n",
       "      <td>title/80201328|#|title/80201866|#|title/801860...</td>\n",
       "      <td>2018-03-09</td>\n",
       "      <td>/title/80204927/</td>\n",
       "      <td>série</td>\n",
       "    </tr>\n",
       "    <tr>\n",
       "      <th>3964</th>\n",
       "      <td>마녀사냥</td>\n",
       "      <td>Séries coréennes|#|Divertissement, variété et ...</td>\n",
       "      <td>NaN</td>\n",
       "      <td>Si-kyung Sung|#|Se-yoon Yoo|#|Dong-yup Shin|#|...</td>\n",
       "      <td>5.2</td>\n",
       "      <td>title/80176929|#|title/80176842|#|title/801769...</td>\n",
       "      <td>2018-02-18</td>\n",
       "      <td>/title/80226338/</td>\n",
       "      <td>série</td>\n",
       "    </tr>\n",
       "    <tr>\n",
       "      <th>3965</th>\n",
       "      <td>용팔이</td>\n",
       "      <td>Séries coréennes|#|Séries dramatiques romantiq...</td>\n",
       "      <td>Palpitant|#|Romantique</td>\n",
       "      <td>Joo Won|#|Kim Tae-hee|#|Jo Hyun-jae|#|Chae Jun...</td>\n",
       "      <td>NaN</td>\n",
       "      <td>title/80998941|#|title/81042516|#|title/800295...</td>\n",
       "      <td>2018-10-15</td>\n",
       "      <td>/title/80998966/</td>\n",
       "      <td>série</td>\n",
       "    </tr>\n",
       "  </tbody>\n",
       "</table>\n",
       "</div>"
      ],
      "text/plain": [
       "                      Titre  \\\n",
       "3961                    Zoo   \n",
       "3962           Zou les ours   \n",
       "3963  Zumbo's Just Desserts   \n",
       "3964                   마녀사냥   \n",
       "3965                    용팔이   \n",
       "\n",
       "                                         Genres Netflix  \\\n",
       "3961  Séries inspirées de livres|#|Thrillers TV|#|Sé...   \n",
       "3962                       Séries russes|#|Pour enfants   \n",
       "3963  Divertissement, variété et talk-shows|#|Séries...   \n",
       "3964  Séries coréennes|#|Divertissement, variété et ...   \n",
       "3965  Séries coréennes|#|Séries dramatiques romantiq...   \n",
       "\n",
       "                Tags Netflix  \\\n",
       "3961    Suspense|#|Palpitant   \n",
       "3962                     NaN   \n",
       "3963               Palpitant   \n",
       "3964                     NaN   \n",
       "3965  Palpitant|#|Romantique   \n",
       "\n",
       "                                                Casting  Note IMDb  \\\n",
       "3961  James Wolk|#|Kristen Connolly|#|Nonso Anozie|#...        6.8   \n",
       "3962               Nataliya Medvedeva|#|Polina Kutepova        7.7   \n",
       "3963                        Adriano Zumbo|#|Rachel Khoo        6.9   \n",
       "3964  Si-kyung Sung|#|Se-yoon Yoo|#|Dong-yup Shin|#|...        5.2   \n",
       "3965  Joo Won|#|Kim Tae-hee|#|Jo Hyun-jae|#|Chae Jun...        NaN   \n",
       "\n",
       "                                      Films/Séries liés Date d'ajout  \\\n",
       "3961  title/80105699|#|title/80097140|#|title/702809...   2019-06-29   \n",
       "3962  title/81099996|#|title/80045811|#|title/801896...   2018-07-27   \n",
       "3963  title/80201328|#|title/80201866|#|title/801860...   2018-03-09   \n",
       "3964  title/80176929|#|title/80176842|#|title/801769...   2018-02-18   \n",
       "3965  title/80998941|#|title/81042516|#|title/800295...   2018-10-15   \n",
       "\n",
       "          Lien Netflix   Type  \n",
       "3961  /title/80011206/  série  \n",
       "3962  /title/80226619/  série  \n",
       "3963  /title/80204927/  série  \n",
       "3964  /title/80226338/  série  \n",
       "3965  /title/80998966/  série  "
      ]
     },
     "execution_count": 50,
     "metadata": {},
     "output_type": "execute_result"
    }
   ],
   "source": [
    "BDD_Netflix.tail()"
   ]
  },
  {
   "cell_type": "markdown",
   "metadata": {},
   "source": [
    "# Exportation en `csv` et `pickle`"
   ]
  },
  {
   "cell_type": "code",
   "execution_count": 52,
   "metadata": {},
   "outputs": [],
   "source": [
    "BDD_Netflix.to_csv('../Data/BDD_Netflix.csv', sep = ';', index = False, encoding = 'utf-8', na_rep = 'NA')"
   ]
  },
  {
   "cell_type": "code",
   "execution_count": 53,
   "metadata": {},
   "outputs": [],
   "source": [
    "BDD_Netflix.to_pickle('../Data/BDD_Netflix.pkl')"
   ]
  },
  {
   "cell_type": "markdown",
   "metadata": {},
   "source": [
    "***Notre base de données s'arrête au 24 novembre 2019.***"
   ]
  },
  {
   "cell_type": "markdown",
   "metadata": {},
   "source": [
    "# Sources"
   ]
  },
  {
   "cell_type": "markdown",
   "metadata": {},
   "source": [
    "- https://fr.flixable.com/?min-rating=0&min-year=1920&max-year=2020&order=title#filterContainer\n",
    "\n",
    "\n",
    "- https://www.netflix.com/fr/\n",
    "\n",
    "\n",
    "- http://akul.me/blog/2016/beautifulsoup-cheatsheet/"
   ]
  }
 ],
 "metadata": {
  "kernelspec": {
   "display_name": "Python 3",
   "language": "python",
   "name": "python3"
  },
  "language_info": {
   "codemirror_mode": {
    "name": "ipython",
    "version": 3
   },
   "file_extension": ".py",
   "mimetype": "text/x-python",
   "name": "python",
   "nbconvert_exporter": "python",
   "pygments_lexer": "ipython3",
   "version": "3.7.3"
  }
 },
 "nbformat": 4,
 "nbformat_minor": 4
}
