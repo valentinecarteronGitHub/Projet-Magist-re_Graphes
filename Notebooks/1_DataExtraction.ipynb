{
 "cells": [
  {
   "cell_type": "markdown",
   "metadata": {},
   "source": [
    "# Packages importation"
   ]
  },
  {
   "cell_type": "code",
   "execution_count": 1,
   "metadata": {},
   "outputs": [],
   "source": [
    "from loky import ProcessPoolExecutor\n",
    "import requests\n",
    "from bs4 import BeautifulSoup\n",
    "import pandas as pd\n",
    "import numpy as np\n",
    "from datetime import datetime\n",
    "import re\n",
    "from itertools import chain\n",
    "import time"
   ]
  },
  {
   "cell_type": "markdown",
   "metadata": {},
   "source": [
    "# Functions definition"
   ]
  },
  {
   "cell_type": "markdown",
   "metadata": {},
   "source": [
    "- This function is used to recover the `id_titles` of the content of the database of Netflix from the website `flixable.com` (e.g. : **/title/80997613/**)"
   ]
  },
  {
   "cell_type": "code",
   "execution_count": 2,
   "metadata": {},
   "outputs": [],
   "source": [
    "def mapper_id_titles(url):\n",
    "    response = requests.get(url)\n",
    "    BS = (BeautifulSoup(response.text)\n",
    "          .select(\"html body main div#filterContainer.container.pt-2 div.row div.col-sm-6.col-lg-3.mb-3 div.poster-container a.poster-link\"))\n",
    "    return [i.get('href') for i in BS]"
   ]
  },
  {
   "cell_type": "code",
   "execution_count": 3,
   "metadata": {
    "scrolled": true
   },
   "outputs": [],
   "source": [
    "# mapper_id_titles('https://fr.flixable.com/genre/{}/?min-rating=0&min-year=1920&max-year=2019&order=title&page=1')"
   ]
  },
  {
   "cell_type": "markdown",
   "metadata": {},
   "source": [
    "- This function is used to recover all the \"interesting\" data from the website `flixable.com`\n",
    "\n",
    "It allows us to retrieve the name of the film, the IMDb site link corresponds to this film, the cast of the film, and the date on which this film was added to netflix."
   ]
  },
  {
   "cell_type": "code",
   "execution_count": 5,
   "metadata": {},
   "outputs": [],
   "source": [
    "def mapper_flixable(id_title):\n",
    "    flixable = \"https://fr.flixable.com\" + id_title\n",
    "    response = requests.get(flixable)\n",
    "    \n",
    "    nom = (BeautifulSoup(response.text)\n",
    "           .select(\"html body main div.container.mt-4 div.row.mb-3 div.col-12 h1.mb-3\")[0]\n",
    "           .text.split(\"\\n\")[1].strip())\n",
    "    \n",
    "    inter = (BeautifulSoup(response.text)\n",
    "             .select(\"div[class='col-md-8 mb-3'] span[class=imdbRatingPlugin] a\"))\n",
    "    if len(inter):\n",
    "        lien_IMDb = inter[0]['href']\n",
    "    else:\n",
    "        lien_IMDb = \"\"\n",
    "        \n",
    "    inter = (BeautifulSoup(response.text)\n",
    "             .select(\"html body main div.container.mt-4 div.row.mb-3 div.col-md-8.mb-3 div.mb-2 span a\"))\n",
    "    inter = [\"\".join(re.findall(r'.*/actor/.*',str(i))) for i in inter]\n",
    "    inter = [i for i in inter if i!=\"\"]\n",
    "    casting = \"|#|\".join([\"\".join(re.findall(r'.*>(.*)</a>',i))for i in inter])\n",
    "    \n",
    "    date_ajout = (BeautifulSoup(response.text)\n",
    "                  .select(\"div.mb-4 > span:nth-child(2)\"))[0].text\n",
    "    \n",
    "    return (nom, lien_IMDb, casting, date_ajout)"
   ]
  },
  {
   "cell_type": "code",
   "execution_count": 6,
   "metadata": {},
   "outputs": [],
   "source": [
    "# mapper_flixable(\"/title/70301585/\")"
   ]
  },
  {
   "cell_type": "markdown",
   "metadata": {},
   "source": [
    "- This function is used to recover all the \"interesting\" data from the website `netflix.com/fr`\n",
    "\n",
    "We get here the list of genres with each film associated."
   ]
  },
  {
   "cell_type": "code",
   "execution_count": 26,
   "metadata": {},
   "outputs": [],
   "source": [
    "def mapper_netflix(id_title):\n",
    "    netflix = \"https://www.netflix.com/fr\" + id_title\n",
    "    response = requests.get(netflix)\n",
    "    \n",
    "    inter = (BeautifulSoup(response.text)\n",
    "             .select(\"a.title-info-metadata-item\"))\n",
    "    genre1 = [i.text.strip().strip(',').replace('\\xa0', ' ') for i in inter]\n",
    "    \n",
    "    inter = (BeautifulSoup(response.text)\n",
    "             .select(\".cell-genres > div:nth-child(2) > span\"))\n",
    "    genre2 = [i.text.strip().strip(',').replace('\\xa0', ' ') for i in inter]\n",
    "    \n",
    "    genre = \"|#|\".join(set(genre1+genre2))\n",
    "    \n",
    "#     test = BeautifulSoup(response.text).select(\"#section-more-details\")[0].text\n",
    "#     if not re.search(r'.*Ce (?:programme|film) est\\.\\.\\..*', test):\n",
    "#         tag = \"\"\n",
    "#     else:\n",
    "#         inter = BeautifulSoup(response.text).select(\"div.more-details-cell div span[class$=tag]\")\n",
    "#         tag = \"|#|\".join([i.text.strip().strip(',').replace('\\xa0', ' ') for i in inter])\n",
    "        \n",
    "#     inter = BeautifulSoup(response.text).select(\".link-container a\")\n",
    "#     relative = \"|#|\".join([i['href'].strip('/fr') for i in inter])\n",
    "    \n",
    "    return genre#(, relative, tag)"
   ]
  },
  {
   "cell_type": "code",
   "execution_count": 28,
   "metadata": {
    "scrolled": true
   },
   "outputs": [
    {
     "data": {
      "text/plain": [
       "'Comédies|#|Films espagnols'"
      ]
     },
     "execution_count": 28,
     "metadata": {},
     "output_type": "execute_result"
    }
   ],
   "source": [
    "# mapper_netflix(\"/title/80997613/\")"
   ]
  },
  {
   "cell_type": "markdown",
   "metadata": {},
   "source": [
    "- This function is used to recover all the \"interesting\" data from the website `imdb.com`\n",
    "\n",
    "We recover with this function the IMDb rating of the film."
   ]
  },
  {
   "cell_type": "code",
   "execution_count": 11,
   "metadata": {},
   "outputs": [],
   "source": [
    "def mapper_rating_IMDb(id_IMDb):\n",
    "    if id_IMDb==\"\":\n",
    "        return \"\"\n",
    "    else:\n",
    "        response = requests.get(id_IMDb)\n",
    "        BS = (BeautifulSoup(response.text)\n",
    "              .select(\".ratingValue > strong:nth-child(1) > span:nth-child(1)\"))\n",
    "        if len(BS):\n",
    "            return float(BS[0].text)\n",
    "        else:\n",
    "            return \"\""
   ]
  },
  {
   "cell_type": "code",
   "execution_count": 12,
   "metadata": {},
   "outputs": [],
   "source": [
    "# mapper_rating_IMDb(\"https://www.imdb.com/title/tt3656200/?ref_=plg_rt_1\")"
   ]
  },
  {
   "cell_type": "markdown",
   "metadata": {},
   "source": [
    "- These functions are used to parallelize the functions above"
   ]
  },
  {
   "cell_type": "code",
   "execution_count": 4,
   "metadata": {},
   "outputs": [],
   "source": [
    "def all_id_title(key):\n",
    "    with ProcessPoolExecutor() as epool:\n",
    "        mapped_values = epool.map(mapper_id_titles, key)\n",
    "    return list(chain(*mapped_values))\n",
    "\n",
    "def all_flixable(key):\n",
    "    with ProcessPoolExecutor() as epool:\n",
    "        mapped_values_flixable = epool.map(mapper_flixable, key)\n",
    "    return list(mapped_values_flixable)\n",
    "\n",
    "def all_netflix(key):\n",
    "    with ProcessPoolExecutor() as epool:\n",
    "        mapped_values_netflix = epool.map(mapper_netflix, key)\n",
    "    return list(mapped_values_netflix)\n",
    "\n",
    "def all_rating_IMDb(key):\n",
    "    with ProcessPoolExecutor() as epool:\n",
    "        mapped_values_rating_IMDb = epool.map(mapper_rating_IMDb, key)\n",
    "    return list(mapped_values_rating_IMDb)"
   ]
  },
  {
   "cell_type": "markdown",
   "metadata": {},
   "source": [
    "# Data extraction"
   ]
  },
  {
   "cell_type": "markdown",
   "metadata": {},
   "source": [
    "**Collecting the amount of pages on the website `flixable.com`**"
   ]
  },
  {
   "cell_type": "code",
   "execution_count": 14,
   "metadata": {},
   "outputs": [
    {
     "data": {
      "text/plain": [
       "{'films': 64, 'series-tv': 37}"
      ]
     },
     "execution_count": 14,
     "metadata": {},
     "output_type": "execute_result"
    }
   ],
   "source": [
    "url = \"https://fr.flixable.com/genre/{}/?min-rating=0&min-year=1920&max-year=2020&order=title#filterContainer\"\n",
    "# Here, it's the Netflix's database of France\n",
    "# For the Netflix's database of USA : https://www.flixable.com/\n",
    "# For the Netflix's database of Germany : https://de.flixable.com/\n",
    "\n",
    "types = [\"films\", \"series-tv\"]\n",
    "number_of_pages = {}\n",
    "\n",
    "for elem in types:\n",
    "    response = requests.get(url.format(elem))\n",
    "    BS = BeautifulSoup(response.text).select(\"li.page-item:nth-child(7) > a:nth-child(1)\")[0]\n",
    "    number_of_pages[elem] = int(BS.get_text())\n",
    "\n",
    "number_of_pages"
   ]
  },
  {
   "cell_type": "markdown",
   "metadata": {},
   "source": [
    "**Collecting all URLs from the `flixable.com` website**"
   ]
  },
  {
   "cell_type": "code",
   "execution_count": 15,
   "metadata": {
    "scrolled": true
   },
   "outputs": [],
   "source": [
    "url = \"https://fr.flixable.com/genre/{}/?min-rating=0&min-year=1920&max-year=2019&order=title&page=\"\n",
    "urls = {}\n",
    "\n",
    "for elem in types:\n",
    "    N = number_of_pages[elem]\n",
    "    urls[elem] = [url.format(elem) + str(i+1) for i in range(N)]"
   ]
  },
  {
   "cell_type": "code",
   "execution_count": 16,
   "metadata": {},
   "outputs": [
    {
     "name": "stdout",
     "output_type": "stream",
     "text": [
      "films : ['https://fr.flixable.com/genre/films/?min-rating=0&min-year=1920&max-year=2019&order=title&page=1', 'https://fr.flixable.com/genre/films/?min-rating=0&min-year=1920&max-year=2019&order=title&page=2']\n",
      "\n",
      "series-tv : ['https://fr.flixable.com/genre/series-tv/?min-rating=0&min-year=1920&max-year=2019&order=title&page=1', 'https://fr.flixable.com/genre/series-tv/?min-rating=0&min-year=1920&max-year=2019&order=title&page=2']\n",
      "\n"
     ]
    }
   ],
   "source": [
    "for key, value in urls.items():\n",
    "    print(\"{} : {}\\n\".format(key,value[:2]))"
   ]
  },
  {
   "cell_type": "markdown",
   "metadata": {},
   "source": [
    "**Collecting all `id_titles`**"
   ]
  },
  {
   "cell_type": "code",
   "execution_count": 17,
   "metadata": {
    "scrolled": true
   },
   "outputs": [
    {
     "name": "stdout",
     "output_type": "stream",
     "text": [
      "Wall time: 11.1 s\n"
     ]
    }
   ],
   "source": [
    "%%time\n",
    "id_titles = {}\n",
    "for key in types:\n",
    "    id_titles[key] = all_id_title(urls[key])"
   ]
  },
  {
   "cell_type": "code",
   "execution_count": 18,
   "metadata": {},
   "outputs": [
    {
     "name": "stdout",
     "output_type": "stream",
     "text": [
      "Pour les films, ils y en a 2533\n",
      "\n",
      "Pour les series-tv, ils y en a 1465\n",
      "\n"
     ]
    }
   ],
   "source": [
    "for key, value in id_titles.items():\n",
    "    print(\"For the {}, the amount is {}\\n\".format(key,len(value)))"
   ]
  },
  {
   "cell_type": "code",
   "execution_count": 19,
   "metadata": {},
   "outputs": [
    {
     "name": "stdout",
     "output_type": "stream",
     "text": [
      "films : ['/title/80997613/', '/title/80074904/']\n",
      "\n",
      "series-tv : ['/title/80234414/', '/title/80029823/']\n",
      "\n"
     ]
    }
   ],
   "source": [
    "for key, value in id_titles.items():\n",
    "    print(\"{} : {}\\n\".format(key,value[:2]))"
   ]
  },
  {
   "cell_type": "code",
   "execution_count": 20,
   "metadata": {},
   "outputs": [],
   "source": [
    "urls_films = id_titles['films']\n",
    "urls_series = id_titles['series-tv']\n",
    "numero_titres = urls_films + urls_series"
   ]
  },
  {
   "cell_type": "markdown",
   "metadata": {},
   "source": [
    "**Collecting data from `flixable.com`**"
   ]
  },
  {
   "cell_type": "code",
   "execution_count": 21,
   "metadata": {
    "scrolled": true
   },
   "outputs": [
    {
     "name": "stdout",
     "output_type": "stream",
     "text": [
      "Wall time: 5min 34s\n"
     ]
    }
   ],
   "source": [
    "%%time\n",
    "data_flixable = {}\n",
    "for key in types:\n",
    "    data_flixable[key] = all_flixable(id_titles[key])"
   ]
  },
  {
   "cell_type": "markdown",
   "metadata": {},
   "source": [
    "Here we have a list of tuples, each tuple and composed of the name of the film, the IMDb site corresponding to this film, the casting, and the date of addition of this film."
   ]
  },
  {
   "cell_type": "code",
   "execution_count": 22,
   "metadata": {},
   "outputs": [
    {
     "name": "stdout",
     "output_type": "stream",
     "text": [
      "films : [('¡Ay, mi madre!', 'https://www.imdb.com/title/tt6213294/?ref_=plg_rt_1', 'Estefanía de los Santos|#|Secun de la Rosa|#|Terele Pávez|#|María Alfonsa Rosso|#|Mariola Fuentes|#|Alfonso Sánchez|#|Paz Vega|#|Marta Torné|#|Concha Galán', '19/7/2019'), ('#Horror', 'https://www.imdb.com/title/tt3526286/?ref_=plg_rt_1', 'Chloë Sevigny|#|Timothy Hutton|#|Natasha Lyonne|#|Balthazar Getty|#|Taryn Manning|#|Stella Schnabel|#|Sadie Seelert|#|Haley Murphy|#|Bridget McGarry|#|Blue Lindberg|#|Mina Sundwall|#|Emma Adler|#|Annabelle Dexter-Jones|#|Lydia Hearst', '30/4/2016')]\n",
      "\n",
      "series-tv : [('100% Hotter', 'https://www.imdb.com/title/tt5819414/?ref_=plg_rt_1', 'Daniel Palmer|#|Melissa Sophia|#|Grace Woodward|#|Karen Williams', '1/8/2019'), ('12 Monkeys', 'https://www.imdb.com/title/tt3148266/?ref_=plg_rt_1', 'Aaron Stanford|#|Amanda Schull|#|Kirk Acevedo|#|Noah Bean|#|Emily Hampshire|#|Barbara Sukowa|#|Todd Stashwick|#|Tom Noonan|#|Zeljko Ivanek', '1/10/2019')]\n",
      "\n"
     ]
    }
   ],
   "source": [
    "for key, value in data_flixable.items():\n",
    "    print(\"{} : {}\\n\".format(key,value[:2]))"
   ]
  },
  {
   "cell_type": "code",
   "execution_count": 23,
   "metadata": {},
   "outputs": [],
   "source": [
    "infos_flixable = []\n",
    "\n",
    "for elem in data_flixable.values():\n",
    "    infos_flixable += elem"
   ]
  },
  {
   "cell_type": "code",
   "execution_count": 24,
   "metadata": {},
   "outputs": [],
   "source": [
    "title = []\n",
    "urls_IMDb = []\n",
    "casting = []\n",
    "date_ajout = []\n",
    "\n",
    "for elem in infos_flixable:\n",
    "    title.append(elem[0])\n",
    "    urls_IMDb.append(elem[1])\n",
    "    casting.append(elem[2])\n",
    "    date_ajout.append(elem[3])"
   ]
  },
  {
   "cell_type": "code",
   "execution_count": 25,
   "metadata": {},
   "outputs": [
    {
     "data": {
      "text/plain": [
       "(['film', 'film', 'film', 'film', 'film'],\n",
       " ['série', 'série', 'série', 'série', 'série'])"
      ]
     },
     "execution_count": 25,
     "metadata": {},
     "output_type": "execute_result"
    }
   ],
   "source": [
    "types_media = ['film']*len(urls_films) + ['série']*len(urls_series)\n",
    "types_media[:5],types_media[-5:]"
   ]
  },
  {
   "cell_type": "markdown",
   "metadata": {},
   "source": [
    "**Collecting data from `netflix.com/fr`**"
   ]
  },
  {
   "cell_type": "markdown",
   "metadata": {},
   "source": [
    "Doesn't work because there are too many requests at the same time, so I suppose that Netflix blocks...\n",
    "\n",
    "```\n",
    "%%time\n",
    "data_netflix = {}\n",
    "for key in types:\n",
    "    data_netflix[key] = all_netflix(id_titles[key])\n",
    "```"
   ]
  },
  {
   "cell_type": "code",
   "execution_count": 29,
   "metadata": {},
   "outputs": [
    {
     "name": "stdout",
     "output_type": "stream",
     "text": [
      "Wall time: 1h 21min 30s\n"
     ]
    }
   ],
   "source": [
    "%%time\n",
    "infos_netflix = []\n",
    "URLS = urls_films + urls_series\n",
    "\n",
    "for elem in URLS:\n",
    "    infos_netflix.append(mapper_netflix(elem))"
   ]
  },
  {
   "cell_type": "code",
   "execution_count": 31,
   "metadata": {},
   "outputs": [
    {
     "data": {
      "text/plain": [
       "['Comédies|#|Films espagnols',\n",
       " \"Films d'horreur|#|Films indépendants\",\n",
       " 'Comédies|#|Films pour ados',\n",
       " 'Docus société et culture|#|Films documentaires|#|Documentaires sportifs|#|Documentaires historiques',\n",
       " 'Comédies|#|Films roumains|#|Drames|#|Films pour ados']"
      ]
     },
     "execution_count": 31,
     "metadata": {},
     "output_type": "execute_result"
    }
   ],
   "source": [
    "infos_netflix[:5]"
   ]
  },
  {
   "cell_type": "code",
   "execution_count": 32,
   "metadata": {},
   "outputs": [],
   "source": [
    "# genres = []\n",
    "# tags = []\n",
    "# relative = []\n",
    "genres = [i for i in infos_netflix]\n",
    "# for elem in infos_netflix:\n",
    "#     genres.append(elem[0])\n",
    "#     tags.append(elem[1])\n",
    "#     relative.append(elem[2])"
   ]
  },
  {
   "cell_type": "markdown",
   "metadata": {},
   "source": [
    "**Collecting data from `imdb.com`**"
   ]
  },
  {
   "cell_type": "code",
   "execution_count": 33,
   "metadata": {
    "scrolled": true
   },
   "outputs": [
    {
     "name": "stdout",
     "output_type": "stream",
     "text": [
      "Wall time: 9min 2s\n"
     ]
    },
    {
     "data": {
      "text/plain": [
       "[3.9, 3.0, 5.2, 5.3, 6.1, 6.5, 5.1, 5.7, 7.5, 7.3]"
      ]
     },
     "execution_count": 33,
     "metadata": {},
     "output_type": "execute_result"
    }
   ],
   "source": [
    "%%time\n",
    "rating = all_rating_IMDb(urls_IMDb)\n",
    "rating[:10]"
   ]
  },
  {
   "cell_type": "markdown",
   "metadata": {},
   "source": [
    "# Dataframe creation"
   ]
  },
  {
   "cell_type": "code",
   "execution_count": 59,
   "metadata": {},
   "outputs": [],
   "source": [
    "# data = {\"Titre\": title, \"Genres Netflix\" : genres,\n",
    "#         \"Tags Netflix\" : tags, \"Casting\" : casting,\n",
    "#         \"Note IMDb\" : rating, \"Films/Séries liés\" : relative,\n",
    "#         \"Date d'ajout\" : date_ajout, \"Lien Netflix\" : numero_titres,\n",
    "#         \"Type\" : types_media}\n",
    "\n",
    "data = {\"Titre\": title, \"Genres Netflix\" : genres,\n",
    "        \"Casting\" : casting, \"Note IMDb\" : rating,\n",
    "        \"Date d'ajout\" : date_ajout, \"Lien Netflix\" : numero_titres,\n",
    "        \"Type\" : types_media}\n",
    "\n",
    "BDD_Netflix = pd.DataFrame(data)\n",
    "BDD_Netflix = BDD_Netflix.loc[BDD_Netflix['Genres Netflix']!='',:]"
   ]
  },
  {
   "cell_type": "code",
   "execution_count": 60,
   "metadata": {},
   "outputs": [],
   "source": [
    "def string_to_datetime(valeur):\n",
    "    return datetime.strptime(valeur, '%d/%m/%Y')\n",
    "\n",
    "BDD_Netflix[\"Date d'ajout\"] = BDD_Netflix[\"Date d'ajout\"].apply(string_to_datetime)       "
   ]
  },
  {
   "cell_type": "code",
   "execution_count": 61,
   "metadata": {},
   "outputs": [],
   "source": [
    "def list_to_string(valeur):\n",
    "    if valeur==\"\":\n",
    "        return np.nan\n",
    "    else:\n",
    "        return valeur\n",
    "\n",
    "#BDD_Netflix[\"Tags Netflix\"] = BDD_Netflix[\"Tags Netflix\"].apply(list_to_string)\n",
    "BDD_Netflix[\"Note IMDb\"] = BDD_Netflix[\"Note IMDb\"].apply(list_to_string)\n",
    "BDD_Netflix[\"Casting\"] = BDD_Netflix[\"Casting\"].apply(list_to_string)\n",
    "#BDD_Netflix[\"Films/Séries liés\"] = BDD_Netflix[\"Films/Séries liés\"].apply(list_to_string)"
   ]
  },
  {
   "cell_type": "code",
   "execution_count": 62,
   "metadata": {
    "scrolled": true
   },
   "outputs": [
    {
     "data": {
      "text/html": [
       "<div>\n",
       "<style scoped>\n",
       "    .dataframe tbody tr th:only-of-type {\n",
       "        vertical-align: middle;\n",
       "    }\n",
       "\n",
       "    .dataframe tbody tr th {\n",
       "        vertical-align: top;\n",
       "    }\n",
       "\n",
       "    .dataframe thead th {\n",
       "        text-align: right;\n",
       "    }\n",
       "</style>\n",
       "<table border=\"1\" class=\"dataframe\">\n",
       "  <thead>\n",
       "    <tr style=\"text-align: right;\">\n",
       "      <th></th>\n",
       "      <th>Titre</th>\n",
       "      <th>Genres Netflix</th>\n",
       "      <th>Casting</th>\n",
       "      <th>Note IMDb</th>\n",
       "      <th>Date d'ajout</th>\n",
       "      <th>Lien Netflix</th>\n",
       "      <th>Type</th>\n",
       "    </tr>\n",
       "  </thead>\n",
       "  <tbody>\n",
       "    <tr>\n",
       "      <th>0</th>\n",
       "      <td>¡Ay, mi madre!</td>\n",
       "      <td>Comédies|#|Films espagnols</td>\n",
       "      <td>Estefanía de los Santos|#|Secun de la Rosa|#|T...</td>\n",
       "      <td>3.9</td>\n",
       "      <td>2019-07-19</td>\n",
       "      <td>/title/80997613/</td>\n",
       "      <td>film</td>\n",
       "    </tr>\n",
       "    <tr>\n",
       "      <th>1</th>\n",
       "      <td>#Horror</td>\n",
       "      <td>Films d'horreur|#|Films indépendants</td>\n",
       "      <td>Chloë Sevigny|#|Timothy Hutton|#|Natasha Lyonn...</td>\n",
       "      <td>3.0</td>\n",
       "      <td>2016-04-30</td>\n",
       "      <td>/title/80074904/</td>\n",
       "      <td>film</td>\n",
       "    </tr>\n",
       "    <tr>\n",
       "      <th>2</th>\n",
       "      <td>#realityhigh</td>\n",
       "      <td>Comédies|#|Films pour ados</td>\n",
       "      <td>Nesta Cooper|#|Kate Walsh|#|John Michael Higgi...</td>\n",
       "      <td>5.2</td>\n",
       "      <td>2017-09-08</td>\n",
       "      <td>/title/80125979/</td>\n",
       "      <td>film</td>\n",
       "    </tr>\n",
       "    <tr>\n",
       "      <th>3</th>\n",
       "      <td>#Rucker50</td>\n",
       "      <td>Docus société et culture|#|Films documentaires...</td>\n",
       "      <td>NaN</td>\n",
       "      <td>5.3</td>\n",
       "      <td>2016-11-30</td>\n",
       "      <td>/title/80147908/</td>\n",
       "      <td>film</td>\n",
       "    </tr>\n",
       "    <tr>\n",
       "      <th>4</th>\n",
       "      <td>#Selfie</td>\n",
       "      <td>Comédies|#|Films roumains|#|Drames|#|Films pou...</td>\n",
       "      <td>Flavia Hojda|#|Crina Semciuc|#|Olimpia Melinte...</td>\n",
       "      <td>6.1</td>\n",
       "      <td>2019-06-01</td>\n",
       "      <td>/title/81092768/</td>\n",
       "      <td>film</td>\n",
       "    </tr>\n",
       "  </tbody>\n",
       "</table>\n",
       "</div>"
      ],
      "text/plain": [
       "            Titre                                     Genres Netflix  \\\n",
       "0  ¡Ay, mi madre!                         Comédies|#|Films espagnols   \n",
       "1         #Horror               Films d'horreur|#|Films indépendants   \n",
       "2    #realityhigh                         Comédies|#|Films pour ados   \n",
       "3       #Rucker50  Docus société et culture|#|Films documentaires...   \n",
       "4         #Selfie  Comédies|#|Films roumains|#|Drames|#|Films pou...   \n",
       "\n",
       "                                             Casting  Note IMDb Date d'ajout  \\\n",
       "0  Estefanía de los Santos|#|Secun de la Rosa|#|T...        3.9   2019-07-19   \n",
       "1  Chloë Sevigny|#|Timothy Hutton|#|Natasha Lyonn...        3.0   2016-04-30   \n",
       "2  Nesta Cooper|#|Kate Walsh|#|John Michael Higgi...        5.2   2017-09-08   \n",
       "3                                                NaN        5.3   2016-11-30   \n",
       "4  Flavia Hojda|#|Crina Semciuc|#|Olimpia Melinte...        6.1   2019-06-01   \n",
       "\n",
       "       Lien Netflix  Type  \n",
       "0  /title/80997613/  film  \n",
       "1  /title/80074904/  film  \n",
       "2  /title/80125979/  film  \n",
       "3  /title/80147908/  film  \n",
       "4  /title/81092768/  film  "
      ]
     },
     "execution_count": 62,
     "metadata": {},
     "output_type": "execute_result"
    }
   ],
   "source": [
    "BDD_Netflix.head()"
   ]
  },
  {
   "cell_type": "code",
   "execution_count": 63,
   "metadata": {},
   "outputs": [
    {
     "data": {
      "text/html": [
       "<div>\n",
       "<style scoped>\n",
       "    .dataframe tbody tr th:only-of-type {\n",
       "        vertical-align: middle;\n",
       "    }\n",
       "\n",
       "    .dataframe tbody tr th {\n",
       "        vertical-align: top;\n",
       "    }\n",
       "\n",
       "    .dataframe thead th {\n",
       "        text-align: right;\n",
       "    }\n",
       "</style>\n",
       "<table border=\"1\" class=\"dataframe\">\n",
       "  <thead>\n",
       "    <tr style=\"text-align: right;\">\n",
       "      <th></th>\n",
       "      <th>Titre</th>\n",
       "      <th>Genres Netflix</th>\n",
       "      <th>Casting</th>\n",
       "      <th>Note IMDb</th>\n",
       "      <th>Date d'ajout</th>\n",
       "      <th>Lien Netflix</th>\n",
       "      <th>Type</th>\n",
       "    </tr>\n",
       "  </thead>\n",
       "  <tbody>\n",
       "    <tr>\n",
       "      <th>3993</th>\n",
       "      <td>Zoo</td>\n",
       "      <td>Séries US|#|Séries inspirées de livres|#|Série...</td>\n",
       "      <td>James Wolk|#|Kristen Connolly|#|Nonso Anozie|#...</td>\n",
       "      <td>6.8</td>\n",
       "      <td>2019-06-29</td>\n",
       "      <td>/title/80011206/</td>\n",
       "      <td>série</td>\n",
       "    </tr>\n",
       "    <tr>\n",
       "      <th>3994</th>\n",
       "      <td>Zou les ours</td>\n",
       "      <td>Pour enfants|#|Séries russes</td>\n",
       "      <td>Nataliya Medvedeva|#|Polina Kutepova</td>\n",
       "      <td>7.8</td>\n",
       "      <td>2018-07-27</td>\n",
       "      <td>/title/80226619/</td>\n",
       "      <td>série</td>\n",
       "    </tr>\n",
       "    <tr>\n",
       "      <th>3995</th>\n",
       "      <td>Zumbo's Just Desserts</td>\n",
       "      <td>Émissions de cuisine et voyages|#|Séries austr...</td>\n",
       "      <td>Adriano Zumbo|#|Rachel Khoo</td>\n",
       "      <td>6.9</td>\n",
       "      <td>2018-03-09</td>\n",
       "      <td>/title/80204927/</td>\n",
       "      <td>série</td>\n",
       "    </tr>\n",
       "    <tr>\n",
       "      <th>3996</th>\n",
       "      <td>마녀사냥</td>\n",
       "      <td>Talk-shows|#|Séries coréennes|#|Séries|#|Diver...</td>\n",
       "      <td>Si-kyung Sung|#|Se-yoon Yoo|#|Dong-yup Shin|#|...</td>\n",
       "      <td>5.2</td>\n",
       "      <td>2018-02-18</td>\n",
       "      <td>/title/80226338/</td>\n",
       "      <td>série</td>\n",
       "    </tr>\n",
       "    <tr>\n",
       "      <th>3997</th>\n",
       "      <td>용팔이</td>\n",
       "      <td>Séries romantiques|#|Séries dramatiques|#|Séri...</td>\n",
       "      <td>Joo Won|#|Kim Tae-hee|#|Jo Hyun-jae|#|Chae Jun...</td>\n",
       "      <td>7.5</td>\n",
       "      <td>2018-10-15</td>\n",
       "      <td>/title/80998966/</td>\n",
       "      <td>série</td>\n",
       "    </tr>\n",
       "  </tbody>\n",
       "</table>\n",
       "</div>"
      ],
      "text/plain": [
       "                      Titre  \\\n",
       "3993                    Zoo   \n",
       "3994           Zou les ours   \n",
       "3995  Zumbo's Just Desserts   \n",
       "3996                   마녀사냥   \n",
       "3997                    용팔이   \n",
       "\n",
       "                                         Genres Netflix  \\\n",
       "3993  Séries US|#|Séries inspirées de livres|#|Série...   \n",
       "3994                       Pour enfants|#|Séries russes   \n",
       "3995  Émissions de cuisine et voyages|#|Séries austr...   \n",
       "3996  Talk-shows|#|Séries coréennes|#|Séries|#|Diver...   \n",
       "3997  Séries romantiques|#|Séries dramatiques|#|Séri...   \n",
       "\n",
       "                                                Casting  Note IMDb  \\\n",
       "3993  James Wolk|#|Kristen Connolly|#|Nonso Anozie|#...        6.8   \n",
       "3994               Nataliya Medvedeva|#|Polina Kutepova        7.8   \n",
       "3995                        Adriano Zumbo|#|Rachel Khoo        6.9   \n",
       "3996  Si-kyung Sung|#|Se-yoon Yoo|#|Dong-yup Shin|#|...        5.2   \n",
       "3997  Joo Won|#|Kim Tae-hee|#|Jo Hyun-jae|#|Chae Jun...        7.5   \n",
       "\n",
       "     Date d'ajout      Lien Netflix   Type  \n",
       "3993   2019-06-29  /title/80011206/  série  \n",
       "3994   2018-07-27  /title/80226619/  série  \n",
       "3995   2018-03-09  /title/80204927/  série  \n",
       "3996   2018-02-18  /title/80226338/  série  \n",
       "3997   2018-10-15  /title/80998966/  série  "
      ]
     },
     "execution_count": 63,
     "metadata": {},
     "output_type": "execute_result"
    }
   ],
   "source": [
    "BDD_Netflix.tail()"
   ]
  },
  {
   "cell_type": "code",
   "execution_count": 64,
   "metadata": {},
   "outputs": [
    {
     "data": {
      "text/plain": [
       "(3996, 7)"
      ]
     },
     "execution_count": 64,
     "metadata": {},
     "output_type": "execute_result"
    }
   ],
   "source": [
    "BDD_Netflix.shape"
   ]
  },
  {
   "cell_type": "markdown",
   "metadata": {},
   "source": [
    "# Exportation to `csv` and `pickle`"
   ]
  },
  {
   "cell_type": "code",
   "execution_count": 65,
   "metadata": {},
   "outputs": [],
   "source": [
    "BDD_Netflix.to_csv('../Data/BDD_Netflix.csv', sep = ';', index = False, encoding = 'utf-8', na_rep = 'NA')"
   ]
  },
  {
   "cell_type": "code",
   "execution_count": 66,
   "metadata": {},
   "outputs": [],
   "source": [
    "BDD_Netflix.to_pickle('../Data/BDD_Netflix.pkl')"
   ]
  },
  {
   "cell_type": "markdown",
   "metadata": {},
   "source": [
    "# Sources"
   ]
  },
  {
   "cell_type": "markdown",
   "metadata": {},
   "source": [
    "- https://fr.flixable.com\n",
    "\n",
    "\n",
    "- https://www.netflix.com/fr/\n",
    "\n",
    "\n",
    "- https://pandas.pydata.org/pandas-docs/stable/reference/frame.html\n",
    "\n",
    "\n",
    "- https://www.crummy.com/software/BeautifulSoup/bs4/doc/\n",
    "\n",
    "\n",
    "- https://docs.python.org/2/library/re.html"
   ]
  }
 ],
 "metadata": {
  "kernelspec": {
   "display_name": "Python 3",
   "language": "python",
   "name": "python3"
  },
  "language_info": {
   "codemirror_mode": {
    "name": "ipython",
    "version": 3
   },
   "file_extension": ".py",
   "mimetype": "text/x-python",
   "name": "python",
   "nbconvert_exporter": "python",
   "pygments_lexer": "ipython3",
   "version": "3.7.4"
  }
 },
 "nbformat": 4,
 "nbformat_minor": 4
}
