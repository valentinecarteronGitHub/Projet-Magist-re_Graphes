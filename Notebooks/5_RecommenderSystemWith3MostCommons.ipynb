{
 "cells": [
  {
   "cell_type": "markdown",
   "metadata": {},
   "source": [
    "# Packages importation"
   ]
  },
  {
   "cell_type": "code",
   "execution_count": 1,
   "metadata": {},
   "outputs": [],
   "source": [
    "import networkx as nx\n",
    "import glob"
   ]
  },
  {
   "cell_type": "markdown",
   "metadata": {},
   "source": [
    "# Fonctions definition"
   ]
  },
  {
   "cell_type": "code",
   "execution_count": 2,
   "metadata": {},
   "outputs": [],
   "source": [
    "def sorted_dict(d):\n",
    "    return sorted(d.items(), key=lambda t: t[1], reverse=True)\n",
    "\n",
    "def prediction_jaccard_with_edge(ever_seen, not_see, graph):\n",
    "    inter = {}\n",
    "    \n",
    "    for elem in ever_seen:\n",
    "        jac_index = [list(nx.jaccard_coefficient(graph, [(elem, i)])) for i in not_see]\n",
    "        inter[elem] = {i[0][1] : i[0][2] for i in jac_index}\n",
    "        \n",
    "    result = {elem:[(key,value[elem]) for key, value in inter.items()] for elem in not_see}\n",
    "    \n",
    "    res = {key:sum([j[1]*G.get_edge_data(key,j[0])[\"weight\"] if G.get_edge_data(key,j[0]) is not None else 0 for j in value]) for key, value in result.items()}\n",
    "    \n",
    "    return sorted_dict(res)\n",
    "\n",
    "def prediction_jaccard_without_edge(ever_seen, not_see, graph):\n",
    "    inter = {}\n",
    "    \n",
    "    for elem in ever_seen:\n",
    "        jac_index = [list(nx.jaccard_coefficient(graph, [(elem, i)])) for i in not_see]\n",
    "        inter[elem] = {i[0][1] : i[0][2] for i in jac_index}\n",
    "        \n",
    "    result = {elem:[(key,value[elem]) for key, value in inter.items()] for elem in not_see}\n",
    "    \n",
    "    res = {key:sum([j[1] for j in value]) for key, value in result.items()}\n",
    "    \n",
    "    return sorted_dict(res)\n",
    "\n",
    "def prediction_adamic_with_edge(ever_seen, not_see, graph):\n",
    "    inter = {}\n",
    "    \n",
    "    for elem in ever_seen:\n",
    "        jac_index = [list(nx.adamic_adar_index(graph, [(elem, i)])) for i in not_see]\n",
    "        inter[elem] = {i[0][1] : i[0][2] for i in jac_index}\n",
    "        \n",
    "    result = {elem:[(key,value[elem]) for key, value in inter.items()] for elem in not_see}\n",
    "    \n",
    "    res = {key:sum([j[1]*G.get_edge_data(key,j[0])[\"weight\"] if G.get_edge_data(key,j[0]) is not None else 0 for j in value]) for key, value in result.items()}\n",
    "    \n",
    "    return sorted_dict(res)\n",
    "\n",
    "def prediction_adamic_without_edge(ever_seen, not_see, graph):\n",
    "    inter = {}\n",
    "    \n",
    "    for elem in ever_seen:\n",
    "        jac_index = [list(nx.adamic_adar_index(graph, [(elem, i)])) for i in not_see]\n",
    "        inter[elem] = {i[0][1] : i[0][2] for i in jac_index}\n",
    "        \n",
    "    result = {elem:[(key,value[elem]) for key, value in inter.items()] for elem in not_see}\n",
    "    \n",
    "    res = {key:sum([j[1] for j in value]) for key, value in result.items()}\n",
    "    \n",
    "    return sorted_dict(res)"
   ]
  },
  {
   "cell_type": "markdown",
   "metadata": {},
   "source": [
    "# Data importation"
   ]
  },
  {
   "cell_type": "markdown",
   "metadata": {},
   "source": [
    "- Titles"
   ]
  },
  {
   "cell_type": "code",
   "execution_count": 3,
   "metadata": {},
   "outputs": [],
   "source": [
    "dico_id = {}\n",
    "dico_id_film = {}\n",
    "dico_id_serie = {}\n",
    "\n",
    "with open(\"../Data/With3MostCommons/Titles.txt\",\"r\", encoding = \"utf-8\") as f:\n",
    "    for line in f.readlines():\n",
    "        content = (line.replace('\\n','')\n",
    "                   .replace('\\xa0', ' ')\n",
    "                   .replace('*', '\\*')\n",
    "                   .split('\\t'))\n",
    "        \n",
    "        dico_id[content[0]] = content[1]\n",
    "\n",
    "with open(\"../Data/With3MostCommons/Titles_film.txt\",\"r\", encoding = \"utf-8\") as f:\n",
    "    for line in f.readlines():\n",
    "        content = (line.replace('\\n','')\n",
    "                   .replace('\\xa0', ' ')\n",
    "                   .replace('*', '\\*')\n",
    "                   .split('\\t'))\n",
    "        \n",
    "        dico_id_film[content[0]] = content[1]\n",
    "        \n",
    "with open(\"../Data/With3MostCommons/Titles_serie.txt\",\"r\", encoding = \"utf-8\") as f:\n",
    "    for line in f.readlines():\n",
    "        content = (line.replace('\\n','')\n",
    "                   .replace('\\xa0', ' ')\n",
    "                   .replace('*', '\\*')\n",
    "                   .split('\\t'))\n",
    "        \n",
    "        dico_id_serie[content[0]] = content[1]\n",
    "# dico_title = {value:key for key,value in dico_id.items()}        \n",
    "# {key:value for key,value in dico_title.items() if key.startswith('A')}"
   ]
  },
  {
   "cell_type": "markdown",
   "metadata": {},
   "source": [
    "- Nodes weight"
   ]
  },
  {
   "cell_type": "code",
   "execution_count": 4,
   "metadata": {},
   "outputs": [],
   "source": [
    "dico_node = {}\n",
    "dico_node_film = {}\n",
    "dico_node_serie = {}\n",
    "\n",
    "with open(\"../Data/With3MostCommons/Nodes_weight.txt\",\"r\", encoding = \"utf-8\") as f:\n",
    "    for line in f.readlines():\n",
    "        content = line.replace('\\n','').split('\\t')\n",
    "        dico_node[content[0]] = float(content[1])\n",
    "\n",
    "with open(\"../Data/With3MostCommons/Nodes_weight_film.txt\",\"r\", encoding = \"utf-8\") as f:\n",
    "    for line in f.readlines():\n",
    "        content = line.replace('\\n','').split('\\t')\n",
    "        dico_node_film[content[0]] = float(content[1])\n",
    "\n",
    "with open(\"../Data/With3MostCommons/Nodes_weight_serie.txt\",\"r\", encoding = \"utf-8\") as f:\n",
    "    for line in f.readlines():\n",
    "        content = line.replace('\\n','').split('\\t')\n",
    "        dico_node_serie[content[0]] = float(content[1])\n",
    "        \n",
    "# dico_node"
   ]
  },
  {
   "cell_type": "markdown",
   "metadata": {},
   "source": [
    "- Links"
   ]
  },
  {
   "cell_type": "code",
   "execution_count": 5,
   "metadata": {},
   "outputs": [],
   "source": [
    "dico_link = {}\n",
    "dico_link_film = {}\n",
    "dico_link_serie = {}\n",
    "\n",
    "with open(\"../Data/With3MostCommons/Liaisons.txt\",\"r\", encoding = \"utf-8\") as f:\n",
    "    for line in f.readlines():\n",
    "        content = line.replace('\\n','').split('\\t')\n",
    "        dico_link[f\"{content[0]}\\t{content[1]}\"] = int(content[2])\n",
    "        \n",
    "with open(\"../Data/With3MostCommons/Liaisons_film.txt\",\"r\", encoding = \"utf-8\") as f:\n",
    "    for line in f.readlines():\n",
    "        content = line.replace('\\n','').split('\\t')\n",
    "        dico_link_film[f\"{content[0]}\\t{content[1]}\"] = int(content[2])\n",
    "        \n",
    "with open(\"../Data/With3MostCommons/Liaisons_serie.txt\",\"r\", encoding = \"utf-8\") as f:\n",
    "    for line in f.readlines():\n",
    "        content = line.replace('\\n','').split('\\t')\n",
    "        dico_link_serie[f\"{content[0]}\\t{content[1]}\"] = int(content[2])\n",
    "        \n",
    "# dico_link"
   ]
  },
  {
   "cell_type": "markdown",
   "metadata": {},
   "source": [
    "- History"
   ]
  },
  {
   "cell_type": "code",
   "execution_count": 6,
   "metadata": {},
   "outputs": [],
   "source": [
    "files = sorted(glob.glob('../Data/Historiques_FilmsVu_Netflix/CleanHistory_user*.txt'))\n",
    "\n",
    "dico_hist = {}\n",
    "for i in range(len(files)):\n",
    "    with open(files[i],\"r\", encoding = \"utf-8\") as f:\n",
    "        content = f.read().split(\"\\n\")\n",
    "        dico_hist[f\"user{i+1}\"] = content\n",
    "\n",
    "# dico_hist"
   ]
  },
  {
   "cell_type": "markdown",
   "metadata": {},
   "source": [
    "# Graph creation"
   ]
  },
  {
   "cell_type": "code",
   "execution_count": 7,
   "metadata": {},
   "outputs": [],
   "source": [
    "G = nx.Graph()\n",
    "G_film = nx.Graph()\n",
    "G_serie = nx.Graph()\n",
    "\n",
    "for key, value in dico_node.items():\n",
    "    G.add_node(key,weight=value)\n",
    "\n",
    "for key, value in dico_link.items():\n",
    "    ID = key.split('\\t')\n",
    "    G.add_edge(ID[0], ID[1], weight=value)\n",
    "    \n",
    "for key, value in dico_node_film.items():\n",
    "    G_film.add_node(key,weight=value)\n",
    "\n",
    "for key, value in dico_link_film.items():\n",
    "    ID = key.split('\\t')\n",
    "    G_film.add_edge(ID[0], ID[1], weight=value)\n",
    "    \n",
    "for key, value in dico_node_serie.items():\n",
    "    G_serie.add_node(key,weight=value)\n",
    "\n",
    "for key, value in dico_link_serie.items():\n",
    "    ID = key.split('\\t')\n",
    "    G_serie.add_edge(ID[0], ID[1], weight=value)"
   ]
  },
  {
   "cell_type": "markdown",
   "metadata": {},
   "source": [
    "# Recommender system"
   ]
  },
  {
   "cell_type": "code",
   "execution_count": 8,
   "metadata": {},
   "outputs": [
    {
     "name": "stdout",
     "output_type": "stream",
     "text": [
      "Entrez un numéro d'usager que vous voulez consultez (entre 1 et 4): 1\n"
     ]
    }
   ],
   "source": [
    "number_user = int(input(f\"Entrez un numéro d'usager que vous voulez consultez (entre 1 et {len(files)}): \"))\n",
    "\n",
    "viewing_history_user = dico_hist[f\"user{number_user}\"]\n",
    "viewing_history_user = [content for content in viewing_history_user if content in dico_id.values()]\n",
    "viewing_history_user = [key for key,value in dico_id.items() if value in viewing_history_user]\n",
    "content_not_see = [i for i in G.nodes() if i not in viewing_history_user]\n",
    "\n",
    "viewing_history_user_film = dico_hist[f\"user{number_user}\"]\n",
    "viewing_history_user_film = [content for content in viewing_history_user_film if content in dico_id_film.values()]\n",
    "viewing_history_user_film = [key for key,value in dico_id_film.items() if value in viewing_history_user_film]\n",
    "content_not_see_film = [i for i in G_film.nodes() if i not in viewing_history_user_film]\n",
    "\n",
    "viewing_history_user_serie = dico_hist[f\"user{number_user}\"]\n",
    "viewing_history_user_serie = [content for content in viewing_history_user_serie if content in dico_id_serie.values()]\n",
    "viewing_history_user_serie = [key for key,value in dico_id_serie.items() if value in viewing_history_user_serie]\n",
    "content_not_see_serie = [i for i in G_serie.nodes() if i not in viewing_history_user_serie]"
   ]
  },
  {
   "cell_type": "markdown",
   "metadata": {},
   "source": [
    "### Recommendation according to the Jaccard index taking into account the weight of the edges"
   ]
  },
  {
   "cell_type": "markdown",
   "metadata": {},
   "source": [
    "- With the graph `G`"
   ]
  },
  {
   "cell_type": "code",
   "execution_count": 9,
   "metadata": {},
   "outputs": [
    {
     "name": "stdout",
     "output_type": "stream",
     "text": [
      "Wall time: 6min 22s\n"
     ]
    },
    {
     "data": {
      "text/plain": [
       "[('Saiki Kusuo no Ψ Nan : Le retour', '/title/81054849/', 83.87796124128963),\n",
       " ('Levius', '/title/80156799/', 80.90723770349287),\n",
       " ('Magi: Adventure of Sinbad', '/title/80103331/', 80.6886798997946),\n",
       " ('7SEEDS', '/title/80183051/', 78.85543066928847),\n",
       " ('Witchcraft Works', '/title/81088623/', 76.38765041411901)]"
      ]
     },
     "execution_count": 9,
     "metadata": {},
     "output_type": "execute_result"
    }
   ],
   "source": [
    "%%time\n",
    "jac_with_edge = prediction_jaccard_with_edge(viewing_history_user, content_not_see, G)\n",
    "# jac_with_edge[:10]\n",
    "[(dico_id[id_title], id_title, num) for id_title,num in jac_with_edge][:5]"
   ]
  },
  {
   "cell_type": "markdown",
   "metadata": {},
   "source": [
    "- With the graph `G_film`"
   ]
  },
  {
   "cell_type": "code",
   "execution_count": 10,
   "metadata": {},
   "outputs": [
    {
     "name": "stdout",
     "output_type": "stream",
     "text": [
      "Wall time: 1min 59s\n"
     ]
    },
    {
     "data": {
      "text/plain": [
       "[('Gaspard Proust tapine', '/title/80134758/', 35.83279444845189),\n",
       " ('David Cross: Making America Great Again!',\n",
       "  '/title/80108759/',\n",
       "  35.252014912594234),\n",
       " ('Francesco De Carlo: Cose di Questo Mondo',\n",
       "  '/title/81041272/',\n",
       "  35.252014912594234),\n",
       " ('Jeff Dunham: Beside Himself', '/title/81074113/', 35.252014912594234),\n",
       " ('Jim Jefferies: This Is Me Now', '/title/80214743/', 35.252014912594234)]"
      ]
     },
     "execution_count": 10,
     "metadata": {},
     "output_type": "execute_result"
    }
   ],
   "source": [
    "%%time\n",
    "jac_with_edge_film = prediction_jaccard_with_edge(viewing_history_user_film, content_not_see_film, G_film)\n",
    "# jac_with_edge_film[:10]\n",
    "[(dico_id[id_title], id_title, num) for id_title,num in jac_with_edge_film][:5]"
   ]
  },
  {
   "cell_type": "markdown",
   "metadata": {},
   "source": [
    "- With the graph `G_serie`"
   ]
  },
  {
   "cell_type": "code",
   "execution_count": 11,
   "metadata": {},
   "outputs": [
    {
     "name": "stdout",
     "output_type": "stream",
     "text": [
      "Wall time: 1min\n"
     ]
    },
    {
     "data": {
      "text/plain": [
       "[('Saiki Kusuo no Ψ Nan : Le retour', '/title/81054849/', 85.94985842766081),\n",
       " ('Levius', '/title/80156799/', 82.82496390993919),\n",
       " ('Magi: Adventure of Sinbad', '/title/80103331/', 82.72789736946946),\n",
       " ('7SEEDS', '/title/80183051/', 81.82947391296351),\n",
       " ('Witchcraft Works', '/title/81088623/', 78.25723528367158)]"
      ]
     },
     "execution_count": 11,
     "metadata": {},
     "output_type": "execute_result"
    }
   ],
   "source": [
    "%%time\n",
    "jac_with_edge_serie = prediction_jaccard_with_edge(viewing_history_user_serie, content_not_see_serie, G_serie)\n",
    "# jac_with_edge_serie[:10]\n",
    "[(dico_id[id_title], id_title, num) for id_title,num in jac_with_edge_serie][:5]"
   ]
  },
  {
   "cell_type": "markdown",
   "metadata": {},
   "source": [
    "### Recommendation according to the Jaccard index without taking into account the weight of the edges"
   ]
  },
  {
   "cell_type": "markdown",
   "metadata": {},
   "source": [
    "- With the graph `G`"
   ]
  },
  {
   "cell_type": "code",
   "execution_count": 12,
   "metadata": {},
   "outputs": [
    {
     "name": "stdout",
     "output_type": "stream",
     "text": [
      "Wall time: 6min 27s\n"
     ]
    },
    {
     "data": {
      "text/plain": [
       "[('Aziz Ansari Live at Madison Square Garden',\n",
       "  '/title/80038296/',\n",
       "  23.204918152773836),\n",
       " ('Aziz Ansari: Buried Alive', '/title/70290568/', 23.204918152773836),\n",
       " ('Aziz Ansari: RIGHT NOW', '/title/81098589/', 23.204918152773836),\n",
       " ('Adam Devine: Best Time of Our Lives',\n",
       "  '/title/80993404/',\n",
       "  23.204754596921063),\n",
       " ('ADAM SANDLER 100% FRESH', '/title/80224536/', 23.204754596921063)]"
      ]
     },
     "execution_count": 12,
     "metadata": {},
     "output_type": "execute_result"
    }
   ],
   "source": [
    "%%time\n",
    "jac_without_edge = prediction_jaccard_without_edge(viewing_history_user, content_not_see, G)\n",
    "[(dico_id[id_title], id_title, num) for id_title,num in jac_without_edge][:5]"
   ]
  },
  {
   "cell_type": "markdown",
   "metadata": {},
   "source": [
    "- With the graph `G_film`"
   ]
  },
  {
   "cell_type": "code",
   "execution_count": 13,
   "metadata": {},
   "outputs": [
    {
     "name": "stdout",
     "output_type": "stream",
     "text": [
      "Wall time: 1min 49s\n"
     ]
    },
    {
     "data": {
      "text/plain": [
       "[('Ace Ventura, détective chiens et chats',\n",
       "  '/title/215309/',\n",
       "  21.231891722031534),\n",
       " ('Action Point', '/title/80210497/', 21.231891722031534),\n",
       " ('Baby Mama', '/title/70084794/', 21.231891722031534),\n",
       " ('Billy Madison', '/title/70000782/', 21.231891722031534),\n",
       " ('Blue Mountain State: The Rise of Thadland',\n",
       "  '/title/80097530/',\n",
       "  21.231891722031534)]"
      ]
     },
     "execution_count": 13,
     "metadata": {},
     "output_type": "execute_result"
    }
   ],
   "source": [
    "%%time\n",
    "jac_without_edge_film = prediction_jaccard_without_edge(viewing_history_user_film, content_not_see_film, G_film)\n",
    "[(dico_id[id_title], id_title, num) for id_title,num in jac_without_edge_film][:5]"
   ]
  },
  {
   "cell_type": "markdown",
   "metadata": {},
   "source": [
    "- With the graph `G_serie`"
   ]
  },
  {
   "cell_type": "code",
   "execution_count": 14,
   "metadata": {},
   "outputs": [
    {
     "name": "stdout",
     "output_type": "stream",
     "text": [
      "Wall time: 55.5 s\n"
     ]
    },
    {
     "data": {
      "text/plain": [
       "[('Insatiable', '/title/80179905/', 21.028855458838557),\n",
       " ('Neo Yokio', '/title/80152350/', 20.885529750215024),\n",
       " ('Glee', '/title/70143843/', 20.81353854312795),\n",
       " ('Santa Clarita Diet', '/title/80095815/', 20.813243664339186),\n",
       " ('Ash vs. Evil Dead', '/title/80049277/', 20.788397516477467)]"
      ]
     },
     "execution_count": 14,
     "metadata": {},
     "output_type": "execute_result"
    }
   ],
   "source": [
    "%%time\n",
    "jac_without_edge_serie = prediction_jaccard_without_edge(viewing_history_user_serie, content_not_see_serie, G_serie)\n",
    "[(dico_id[id_title], id_title, num) for id_title,num in jac_without_edge_serie][:5]"
   ]
  },
  {
   "cell_type": "markdown",
   "metadata": {},
   "source": [
    "### Recommendation according to the adamic adam index taking into account the weight of the edges"
   ]
  },
  {
   "cell_type": "markdown",
   "metadata": {},
   "source": [
    "- With the graph `G`"
   ]
  },
  {
   "cell_type": "code",
   "execution_count": 15,
   "metadata": {
    "scrolled": true
   },
   "outputs": [
    {
     "name": "stdout",
     "output_type": "stream",
     "text": [
      "Wall time: 7min 6s\n"
     ]
    },
    {
     "data": {
      "text/plain": [
       "[('La Délicatesse', '/title/70190331/', 7841.865051893523),\n",
       " ('Paris', '/title/70117694/', 7528.233196726301),\n",
       " (\"Chroniques sexuelles d'une famille d'aujourd'hui\",\n",
       "  '/title/70242943/',\n",
       "  7507.682414983971),\n",
       " ('Avril et le Monde truqué', '/title/80062096/', 7358.972688786177),\n",
       " ('Saint-Jacques... La Mecque', '/title/80007621/', 7236.134511614933)]"
      ]
     },
     "execution_count": 15,
     "metadata": {},
     "output_type": "execute_result"
    }
   ],
   "source": [
    "%%time\n",
    "aa_with_edge = prediction_adamic_with_edge(viewing_history_user, content_not_see, G)\n",
    "[(dico_id[id_title], id_title, num) for id_title,num in aa_with_edge][:5]"
   ]
  },
  {
   "cell_type": "markdown",
   "metadata": {},
   "source": [
    "- With the graph `G_film`"
   ]
  },
  {
   "cell_type": "code",
   "execution_count": 16,
   "metadata": {
    "scrolled": true
   },
   "outputs": [
    {
     "name": "stdout",
     "output_type": "stream",
     "text": [
      "Wall time: 2min 48s\n"
     ]
    },
    {
     "data": {
      "text/plain": [
       "[('La Délicatesse', '/title/70190331/', 7417.477919122134),\n",
       " ('Paris', '/title/70117694/', 7104.329596799172),\n",
       " (\"Chroniques sexuelles d'une famille d'aujourd'hui\",\n",
       "  '/title/70242943/',\n",
       "  7084.207356875057),\n",
       " ('Avril et le Monde truqué', '/title/80062096/', 6939.344834993235),\n",
       " ('Saint-Jacques... La Mecque', '/title/80007621/', 6816.007876444606)]"
      ]
     },
     "execution_count": 16,
     "metadata": {},
     "output_type": "execute_result"
    }
   ],
   "source": [
    "%%time\n",
    "aa_with_edge_film = prediction_adamic_with_edge(viewing_history_user_film, content_not_see_film, G_film)\n",
    "[(dico_id[id_title], id_title, num) for id_title,num in aa_with_edge_film][:5]"
   ]
  },
  {
   "cell_type": "markdown",
   "metadata": {},
   "source": [
    "- With the graph `G_serie`"
   ]
  },
  {
   "cell_type": "code",
   "execution_count": 17,
   "metadata": {
    "scrolled": true
   },
   "outputs": [
    {
     "name": "stdout",
     "output_type": "stream",
     "text": [
      "Wall time: 1min 24s\n"
     ]
    },
    {
     "data": {
      "text/plain": [
       "[('Neo Yokio', '/title/80152350/', 6187.162196110412),\n",
       " ('Lady Dynamite', '/title/80046193/', 6121.7852961236085),\n",
       " ('Haters Back Off', '/title/80095900/', 5984.4071338892645),\n",
       " ('The Politician', '/title/80241248/', 5970.30062196634),\n",
       " ('IZombie', '/title/80027159/', 5932.5677445550145)]"
      ]
     },
     "execution_count": 17,
     "metadata": {},
     "output_type": "execute_result"
    }
   ],
   "source": [
    "%%time\n",
    "aa_with_edge_serie = prediction_adamic_with_edge(viewing_history_user_serie, content_not_see_serie, G_serie)\n",
    "[(dico_id[id_title], id_title, num) for id_title,num in aa_with_edge_serie][:5]"
   ]
  },
  {
   "cell_type": "markdown",
   "metadata": {},
   "source": [
    "### Recommendation according to the adamic adam index without taking into account the weight of the edges"
   ]
  },
  {
   "cell_type": "markdown",
   "metadata": {},
   "source": [
    "- With the graph `G`"
   ]
  },
  {
   "cell_type": "code",
   "execution_count": 18,
   "metadata": {},
   "outputs": [
    {
     "name": "stdout",
     "output_type": "stream",
     "text": [
      "Wall time: 7min 5s\n"
     ]
    },
    {
     "data": {
      "text/plain": [
       "[('Saint-Jacques... La Mecque', '/title/80007621/', 4599.718344138767),\n",
       " ('My Deer Hunter Dad', '/title/80176715/', 4581.988582582696),\n",
       " ('Colkatay Columbus', '/title/80180509/', 4479.719948195896),\n",
       " ('Avril et le Monde truqué', '/title/80062096/', 4469.920518332674),\n",
       " ('Band of Robbers', '/title/80064273/', 4469.521663430579)]"
      ]
     },
     "execution_count": 18,
     "metadata": {},
     "output_type": "execute_result"
    }
   ],
   "source": [
    "%%time\n",
    "aa_without_edge = prediction_adamic_without_edge(viewing_history_user, content_not_see, G)\n",
    "[(dico_id[id_title], id_title, num) for id_title,num in aa_without_edge][:5]"
   ]
  },
  {
   "cell_type": "markdown",
   "metadata": {},
   "source": [
    "- With the graph `G_film`"
   ]
  },
  {
   "cell_type": "code",
   "execution_count": 19,
   "metadata": {},
   "outputs": [
    {
     "name": "stdout",
     "output_type": "stream",
     "text": [
      "Wall time: 2min 36s\n"
     ]
    },
    {
     "data": {
      "text/plain": [
       "[('Saint-Jacques... La Mecque', '/title/80007621/', 4060.7030651806754),\n",
       " ('My Deer Hunter Dad', '/title/80176715/', 4043.457467250964),\n",
       " ('Colkatay Columbus', '/title/80180509/', 3950.182869497937),\n",
       " ('Band of Robbers', '/title/80064273/', 3929.7158594557086),\n",
       " ('PK', '/title/70303496/', 3928.1045509183677)]"
      ]
     },
     "execution_count": 19,
     "metadata": {},
     "output_type": "execute_result"
    }
   ],
   "source": [
    "%%time\n",
    "aa_without_edge_film = prediction_adamic_without_edge(viewing_history_user_film, content_not_see_film, G_film)\n",
    "[(dico_id[id_title], id_title, num) for id_title,num in aa_without_edge_film][:5]"
   ]
  },
  {
   "cell_type": "markdown",
   "metadata": {},
   "source": [
    "- With the graph `G_serie`"
   ]
  },
  {
   "cell_type": "code",
   "execution_count": 20,
   "metadata": {},
   "outputs": [
    {
     "name": "stdout",
     "output_type": "stream",
     "text": [
      "Wall time: 1min 17s\n"
     ]
    },
    {
     "data": {
      "text/plain": [
       "[('Haters Back Off', '/title/80095900/', 3115.5380735578924),\n",
       " ('The Politician', '/title/80241248/', 3111.9581285028553),\n",
       " ('Neo Yokio', '/title/80152350/', 3101.855898854907),\n",
       " ('Girlboss', '/title/80115671/', 3084.8448356699864),\n",
       " ('Special', '/title/80987458/', 3084.8448356699864)]"
      ]
     },
     "execution_count": 20,
     "metadata": {},
     "output_type": "execute_result"
    }
   ],
   "source": [
    "%%time\n",
    "aa_without_edge_serie = prediction_adamic_without_edge(viewing_history_user_serie, content_not_see_serie, G_serie)\n",
    "[(dico_id[id_title], id_title, num) for id_title,num in aa_without_edge_serie][:5]"
   ]
  },
  {
   "cell_type": "markdown",
   "metadata": {},
   "source": [
    "```python\n",
    "def prediction_centralite_1(ever_seen, graph):\n",
    "    for elem in ever_seen:\n",
    "        graph.add_node(elem,weight=10.0)\n",
    "    return [i for i in sorted_dict(nx.degree_centrality(graph)) if i[0] not in ever_seen]\n",
    "\n",
    "%%time\n",
    "cent_degree = prediction_centralite_1(viewing_history_user, G2)\n",
    "cent_degree[:10]\n",
    "```"
   ]
  },
  {
   "cell_type": "code",
   "execution_count": null,
   "metadata": {},
   "outputs": [],
   "source": []
  }
 ],
 "metadata": {
  "kernelspec": {
   "display_name": "Python 3",
   "language": "python",
   "name": "python3"
  },
  "language_info": {
   "codemirror_mode": {
    "name": "ipython",
    "version": 3
   },
   "file_extension": ".py",
   "mimetype": "text/x-python",
   "name": "python",
   "nbconvert_exporter": "python",
   "pygments_lexer": "ipython3",
   "version": "3.7.3"
  }
 },
 "nbformat": 4,
 "nbformat_minor": 4
}
