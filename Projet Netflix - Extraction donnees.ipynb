{
 "cells": [
  {
   "cell_type": "markdown",
   "metadata": {},
   "source": [
    "# Importation des packages"
   ]
  },
  {
   "cell_type": "code",
   "execution_count": 1,
   "metadata": {},
   "outputs": [],
   "source": [
    "from loky import ProcessPoolExecutor\n",
    "import os\n",
    "import requests\n",
    "from bs4 import BeautifulSoup\n",
    "import sys\n",
    "import pandas as pd\n",
    "import numpy as np\n",
    "from datetime import datetime\n",
    "import re\n",
    "from itertools import chain"
   ]
  },
  {
   "cell_type": "markdown",
   "metadata": {},
   "source": [
    "# Définition de fonctions"
   ]
  },
  {
   "cell_type": "markdown",
   "metadata": {},
   "source": [
    "### Les \"mapper\" pour récupérer les `id_titles`"
   ]
  },
  {
   "cell_type": "code",
   "execution_count": 2,
   "metadata": {},
   "outputs": [],
   "source": [
    "def mapper_id_titles(url):\n",
    "    response = requests.get(url)\n",
    "    BS = (BeautifulSoup(response.text)\n",
    "          .select(\"html body main div#filterContainer.container.pt-2 div.row div.col-sm-6.col-lg-3.mb-3 div.poster-container a.poster-link\"))\n",
    "    return [i.get('href') for i in BS]"
   ]
  },
  {
   "cell_type": "code",
   "execution_count": 3,
   "metadata": {
    "scrolled": true
   },
   "outputs": [],
   "source": [
    "# mapper_id_titles('https://fr.flixable.com/genre/{}/?min-rating=0&min-year=1920&max-year=2019&order=title&page=1')"
   ]
  },
  {
   "cell_type": "markdown",
   "metadata": {},
   "source": [
    "### Parallélisation pour récupérer les `id_titles`"
   ]
  },
  {
   "cell_type": "code",
   "execution_count": 4,
   "metadata": {},
   "outputs": [],
   "source": [
    "def all_id_title(key):\n",
    "    with ProcessPoolExecutor() as epool:\n",
    "        mapped_values = epool.map(mapper_id_titles, key)\n",
    "    return list(chain(*mapped_values))"
   ]
  },
  {
   "cell_type": "markdown",
   "metadata": {},
   "source": [
    "### Les \"mapper\" sur le site `flixable.com`"
   ]
  },
  {
   "cell_type": "code",
   "execution_count": 5,
   "metadata": {},
   "outputs": [],
   "source": [
    "def mapper_flixable(id_title):\n",
    "    flixable = \"https://fr.flixable.com\" + id_title\n",
    "    response = requests.get(flixable)\n",
    "    \n",
    "    nom = (BeautifulSoup(response.text)\n",
    "           .select(\"html body main div.container.mt-4 div.row.mb-3 div.col-12 h1.mb-3\")[0]\n",
    "           .text.split(\"\\n\")[1].strip())\n",
    "    \n",
    "    inter = (BeautifulSoup(response.text)\n",
    "             .select(\"div[class='col-md-8 mb-3'] span[class=imdbRatingPlugin] a\"))\n",
    "    if len(inter):\n",
    "        lien_IMDb = inter[0]['href']\n",
    "    else:\n",
    "        lien_IMDb = \"\"\n",
    "        \n",
    "    inter = (BeautifulSoup(response.text)\n",
    "             .select(\"html body main div.container.mt-4 div.row.mb-3 div.col-md-8.mb-3 div.mb-2 span a\"))\n",
    "    inter = [\"\".join(re.findall(r'.*/actor/.*',str(i))) for i in inter]\n",
    "    inter = [i for i in inter if i!=\"\"]\n",
    "    casting = \"|#|\".join([\"\".join(re.findall(r'.*>(.*)</a>',i))for i in inter])\n",
    "    \n",
    "    date_ajout = (BeautifulSoup(response.text)\n",
    "                  .select(\"div.mb-4 > span:nth-child(2)\"))[0].text\n",
    "    \n",
    "    return (nom, lien_IMDb, casting, date_ajout)"
   ]
  },
  {
   "cell_type": "code",
   "execution_count": 6,
   "metadata": {},
   "outputs": [],
   "source": [
    "# mapper_flixable(\"/title/70301585/\")"
   ]
  },
  {
   "cell_type": "markdown",
   "metadata": {},
   "source": [
    "### Parallélisation pour récupérer les données sur le site `flixable.com`"
   ]
  },
  {
   "cell_type": "code",
   "execution_count": 7,
   "metadata": {},
   "outputs": [],
   "source": [
    "def all_flixable(key):\n",
    "    with ProcessPoolExecutor() as epool:\n",
    "        mapped_values_flixable = epool.map(mapper_flixable, key)\n",
    "    return list(mapped_values_flixable)"
   ]
  },
  {
   "cell_type": "markdown",
   "metadata": {},
   "source": [
    "### Les \"mapper\" sur le site `netflix.com/fr`"
   ]
  },
  {
   "cell_type": "code",
   "execution_count": 8,
   "metadata": {},
   "outputs": [],
   "source": [
    "def mapper_netflix(id_title):\n",
    "    netflix = \"https://www.netflix.com/fr\" + id_title\n",
    "    response = requests.get(netflix)\n",
    "    \n",
    "    inter = (BeautifulSoup(response.text)\n",
    "             .select(\"a.title-info-metadata-item\"))\n",
    "    genre1 = [i.text.strip().strip(',').replace('\\xa0', ' ') for i in inter]\n",
    "    \n",
    "    inter = (BeautifulSoup(response.text)\n",
    "             .select(\".cell-genres > div:nth-child(2) > span\"))\n",
    "    genre2 = [i.text.strip().strip(',').replace('\\xa0', ' ') for i in inter]\n",
    "    \n",
    "    genre = \"|#|\".join(set(genre1+genre2))\n",
    "    \n",
    "    test = BeautifulSoup(response.text).select(\"#section-more-details\")[0].text\n",
    "    if not re.search(r'.*Ce (?:programme|film) est\\.\\.\\..*', test):\n",
    "        tag = \"\"\n",
    "    else:\n",
    "        inter = BeautifulSoup(response.text).select(\"div.more-details-cell div span[class$=tag]\")\n",
    "        tag = \"|#|\".join([i.text.strip().strip(',').replace('\\xa0', ' ') for i in inter])\n",
    "        \n",
    "    inter = BeautifulSoup(response.text).select(\".link-container a\")\n",
    "    relative = \"|#|\".join([i['href'].strip('/fr') for i in inter])\n",
    "    \n",
    "    return (genre, tag, relative)"
   ]
  },
  {
   "cell_type": "code",
   "execution_count": 9,
   "metadata": {},
   "outputs": [],
   "source": [
    "# mapper_netflix(\"/title/70301585/\")"
   ]
  },
  {
   "cell_type": "markdown",
   "metadata": {},
   "source": [
    "### Parallélisation pour récupérer les données sur `netflix.com/fr`"
   ]
  },
  {
   "cell_type": "code",
   "execution_count": 10,
   "metadata": {},
   "outputs": [],
   "source": [
    "def all_netflix(key):\n",
    "    with ProcessPoolExecutor() as epool:\n",
    "        mapped_values_netflix = epool.map(mapper_netflix, key)\n",
    "    return list(mapped_values_netflix)"
   ]
  },
  {
   "cell_type": "markdown",
   "metadata": {},
   "source": [
    "### Les \"mapper\" sur le site `imdb.com`"
   ]
  },
  {
   "cell_type": "code",
   "execution_count": 11,
   "metadata": {},
   "outputs": [],
   "source": [
    "def mapper_rating_IMDb(id_IMDb):\n",
    "    if id_IMDb==\"\":\n",
    "        return \"\"\n",
    "    else:\n",
    "        response = requests.get(id_IMDb)\n",
    "        BS = (BeautifulSoup(response.text)\n",
    "              .select(\".ratingValue > strong:nth-child(1) > span:nth-child(1)\")[0])\n",
    "    return float(BS.text)"
   ]
  },
  {
   "cell_type": "code",
   "execution_count": 12,
   "metadata": {},
   "outputs": [],
   "source": [
    "# mapper_rating_IMDb(\"https://www.imdb.com/title/tt6213294/?ref_=plg_rt_1\")"
   ]
  },
  {
   "cell_type": "markdown",
   "metadata": {},
   "source": [
    "### Parallélisation pour récupérer les données sur `imdb.com`"
   ]
  },
  {
   "cell_type": "code",
   "execution_count": 13,
   "metadata": {},
   "outputs": [],
   "source": [
    "def all_rating_IMDb(key):\n",
    "    with ProcessPoolExecutor() as epool:\n",
    "        mapped_values_rating_IMDb = epool.map(mapper_rating_IMDb, key)\n",
    "    return list(mapped_values_rating_IMDb)"
   ]
  },
  {
   "cell_type": "markdown",
   "metadata": {},
   "source": [
    "# Récupération des données"
   ]
  },
  {
   "cell_type": "markdown",
   "metadata": {},
   "source": [
    "### Récupération du nombre de pages sur le site `flixable.com`"
   ]
  },
  {
   "cell_type": "code",
   "execution_count": 14,
   "metadata": {},
   "outputs": [
    {
     "data": {
      "text/plain": [
       "{'films': 64, 'series-tv': 36}"
      ]
     },
     "execution_count": 14,
     "metadata": {},
     "output_type": "execute_result"
    }
   ],
   "source": [
    "url = \"https://fr.flixable.com/genre/{}/?min-rating=0&min-year=1920&max-year=2020&order=title#filterContainer\"\n",
    "types = [\"films\", \"series-tv\"]\n",
    "number_of_pages = {}\n",
    "\n",
    "for elem in types:\n",
    "    response = requests.get(url.format(elem))\n",
    "    BS = BeautifulSoup(response.text).select(\"li.page-item:nth-child(7) > a:nth-child(1)\")[0]\n",
    "    number_of_pages[elem] = int(BS.get_text())\n",
    "\n",
    "number_of_pages"
   ]
  },
  {
   "cell_type": "markdown",
   "metadata": {},
   "source": [
    "### Récupération des urls du site `flixable.com`"
   ]
  },
  {
   "cell_type": "code",
   "execution_count": 15,
   "metadata": {
    "scrolled": true
   },
   "outputs": [],
   "source": [
    "url = \"https://fr.flixable.com/genre/{}/?min-rating=0&min-year=1920&max-year=2019&order=title&page=\"\n",
    "urls = {}\n",
    "\n",
    "for elem in types:\n",
    "    N = number_of_pages[elem]\n",
    "    urls[elem] = [url.format(elem) + str(i+1) for i in range(N)]"
   ]
  },
  {
   "cell_type": "code",
   "execution_count": 16,
   "metadata": {},
   "outputs": [
    {
     "name": "stdout",
     "output_type": "stream",
     "text": [
      "films : ['https://fr.flixable.com/genre/films/?min-rating=0&min-year=1920&max-year=2019&order=title&page=1', 'https://fr.flixable.com/genre/films/?min-rating=0&min-year=1920&max-year=2019&order=title&page=2']\n",
      "\n",
      "series-tv : ['https://fr.flixable.com/genre/series-tv/?min-rating=0&min-year=1920&max-year=2019&order=title&page=1', 'https://fr.flixable.com/genre/series-tv/?min-rating=0&min-year=1920&max-year=2019&order=title&page=2']\n",
      "\n"
     ]
    }
   ],
   "source": [
    "for key, value in urls.items():\n",
    "    print(\"{} : {}\\n\".format(key,value[:2]))"
   ]
  },
  {
   "cell_type": "markdown",
   "metadata": {},
   "source": [
    "### Récupération des `id_titles`"
   ]
  },
  {
   "cell_type": "code",
   "execution_count": 17,
   "metadata": {
    "scrolled": true
   },
   "outputs": [
    {
     "name": "stdout",
     "output_type": "stream",
     "text": [
      "Wall time: 15.4 s\n"
     ]
    }
   ],
   "source": [
    "%%time\n",
    "id_titles = {}\n",
    "for key in types:\n",
    "    id_titles[key] = all_id_title(urls[key])\n",
    "    \n",
    "#(~10s)"
   ]
  },
  {
   "cell_type": "code",
   "execution_count": 18,
   "metadata": {},
   "outputs": [
    {
     "name": "stdout",
     "output_type": "stream",
     "text": [
      "Pour les films, ils y en a 2539\n",
      "\n",
      "Pour les series-tv, ils y en a 1428\n",
      "\n"
     ]
    }
   ],
   "source": [
    "for key, value in id_titles.items():\n",
    "    print(\"Pour les {}, ils y en a {}\\n\".format(key,len(value)))"
   ]
  },
  {
   "cell_type": "code",
   "execution_count": 19,
   "metadata": {},
   "outputs": [
    {
     "name": "stdout",
     "output_type": "stream",
     "text": [
      "films : ['/title/80997613/', '/title/70301585/']\n",
      "\n",
      "series-tv : ['/title/80234414/', '/title/80029823/']\n",
      "\n"
     ]
    }
   ],
   "source": [
    "for key, value in id_titles.items():\n",
    "    print(\"{} : {}\\n\".format(key,value[:2]))"
   ]
  },
  {
   "cell_type": "code",
   "execution_count": 20,
   "metadata": {},
   "outputs": [],
   "source": [
    "urls_films = id_titles['films']\n",
    "urls_series = id_titles['series-tv']\n",
    "numero_titres = urls_films + urls_series"
   ]
  },
  {
   "cell_type": "markdown",
   "metadata": {},
   "source": [
    "### Récupération des données sur le site `flixable.com`"
   ]
  },
  {
   "cell_type": "code",
   "execution_count": 21,
   "metadata": {
    "scrolled": true
   },
   "outputs": [
    {
     "name": "stdout",
     "output_type": "stream",
     "text": [
      "Wall time: 8min 35s\n"
     ]
    }
   ],
   "source": [
    "%%time\n",
    "data_flixable = {}\n",
    "for key in types:\n",
    "    data_flixable[key] = all_flixable(id_titles[key])\n",
    "    \n",
    "#(~6min10)"
   ]
  },
  {
   "cell_type": "code",
   "execution_count": 22,
   "metadata": {},
   "outputs": [
    {
     "name": "stdout",
     "output_type": "stream",
     "text": [
      "films : [('¡Ay, mi madre!', 'https://www.imdb.com/title/tt6213294/?ref_=plg_rt_1', 'Estefanía de los Santos|#|Secun de la Rosa|#|Terele Pávez|#|María Alfonsa Rosso|#|Mariola Fuentes|#|Alfonso Sánchez|#|Paz Vega|#|Marta Torné|#|Concha Galán', '19/7/2019'), (\"'71\", 'https://www.imdb.com/title/tt2614684/?ref_=plg_rt_1', \"Charlie Murphy|#|Paul Anderson|#|Sam Reid|#|Richard Dormer|#|Sean Harris|#|Killian Scott|#|Martin McCann|#|Corey McKinley|#|David Wilmot|#|Jack O'Connell|#|Charlie Murphy|#|Paul W.S. Anderson|#|Sam Hazeldine\", '1/12/2018')]\n",
      "\n",
      "series-tv : [('100% Hotter', 'https://www.imdb.com/title/tt5819414/?ref_=plg_rt_1', 'Daniel Palmer|#|Melissa Sophia|#|Grace Woodward|#|Karen Williams', '1/8/2019'), ('12 Monkeys', 'https://www.imdb.com/title/tt3148266/?ref_=plg_rt_1', 'Aaron Stanford|#|Amanda Schull|#|Kirk Acevedo|#|Noah Bean|#|Emily Hampshire|#|Barbara Sukowa|#|Todd Stashwick|#|Tom Noonan|#|Zeljko Ivanek', '1/10/2019')]\n",
      "\n"
     ]
    }
   ],
   "source": [
    "for key, value in data_flixable.items():\n",
    "    print(\"{} : {}\\n\".format(key,value[:2]))"
   ]
  },
  {
   "cell_type": "code",
   "execution_count": 36,
   "metadata": {},
   "outputs": [],
   "source": [
    "infos_flixable = []\n",
    "\n",
    "for elem in data_flixable.values():\n",
    "    infos_flixable += elem"
   ]
  },
  {
   "cell_type": "code",
   "execution_count": 37,
   "metadata": {},
   "outputs": [],
   "source": [
    "title = []\n",
    "urls_IMDb = []\n",
    "casting = []\n",
    "date_ajout = []\n",
    "\n",
    "for elem in infos_flixable:\n",
    "    title.append(elem[0])\n",
    "    urls_IMDb.append(elem[1])\n",
    "    casting.append(elem[2])\n",
    "    date_ajout.append(elem[3])"
   ]
  },
  {
   "cell_type": "code",
   "execution_count": 42,
   "metadata": {},
   "outputs": [
    {
     "data": {
      "text/plain": [
       "(['film', 'film', 'film', 'film', 'film'],\n",
       " ['série', 'série', 'série', 'série', 'série'])"
      ]
     },
     "execution_count": 42,
     "metadata": {},
     "output_type": "execute_result"
    }
   ],
   "source": [
    "types_media = ['film']*len(urls_films) + ['série']*len(urls_series)\n",
    "types_media[:5],types_media[-5:]"
   ]
  },
  {
   "cell_type": "markdown",
   "metadata": {},
   "source": [
    "### Récupération des données sur le site `netflix.com/fr`"
   ]
  },
  {
   "cell_type": "markdown",
   "metadata": {
    "scrolled": true
   },
   "source": [
    "Ne fonctionne pas car trop de requests en même temps donc Netflix bloque\n",
    "```\n",
    "%%time\n",
    "data_netflix = {}\n",
    "for key in types:\n",
    "    data_netflix[key] = all_netflix(id_titles[key])\n",
    "```"
   ]
  },
  {
   "cell_type": "code",
   "execution_count": null,
   "metadata": {},
   "outputs": [],
   "source": [
    "%%time\n",
    "infos_netflix = []\n",
    "URLS = urls_films + urls_series\n",
    "\n",
    "for elem in URLS:\n",
    "    infos_netflix.append(mapper_netflix(elem))"
   ]
  },
  {
   "cell_type": "code",
   "execution_count": 37,
   "metadata": {},
   "outputs": [],
   "source": [
    "genres = []\n",
    "tags = []\n",
    "relative = []\n",
    "\n",
    "for elem in infos_flixable:\n",
    "    genres.append(elem[0])\n",
    "    tags.append(elem[1])\n",
    "    relative.append(elem[2])"
   ]
  },
  {
   "cell_type": "markdown",
   "metadata": {},
   "source": [
    "### Récupération des données sur le site `imdb.com`"
   ]
  },
  {
   "cell_type": "code",
   "execution_count": 23,
   "metadata": {
    "collapsed": true
   },
   "outputs": [
    {
     "ename": "IndexError",
     "evalue": "list index out of range",
     "output_type": "error",
     "traceback": [
      "\u001b[1;31m---------------------------------------------------------------------------\u001b[0m",
      "\u001b[1;31m_RemoteTraceback\u001b[0m                          Traceback (most recent call last)",
      "\u001b[1;31m_RemoteTraceback\u001b[0m: \n\"\"\"\nTraceback (most recent call last):\n  File \"C:\\ProgramData\\Anaconda3\\lib\\site-packages\\loky\\process_executor.py\", line 418, in _process_worker\n    r = call_item()\n  File \"C:\\ProgramData\\Anaconda3\\lib\\site-packages\\loky\\process_executor.py\", line 272, in __call__\n    return self.fn(*self.args, **self.kwargs)\n  File \"C:\\ProgramData\\Anaconda3\\lib\\site-packages\\loky\\process_executor.py\", line 337, in _process_chunk\n    return [fn(*args) for args in chunk]\n  File \"C:\\ProgramData\\Anaconda3\\lib\\site-packages\\loky\\process_executor.py\", line 337, in <listcomp>\n    return [fn(*args) for args in chunk]\n  File \"<ipython-input-7-fe94f6bf7f1e>\", line 5, in mapper_year\nIndexError: list index out of range\n\"\"\"",
      "\nThe above exception was the direct cause of the following exception:\n",
      "\u001b[1;31mIndexError\u001b[0m                                Traceback (most recent call last)",
      "\u001b[1;32m<timed exec>\u001b[0m in \u001b[0;36m<module>\u001b[1;34m\u001b[0m\n",
      "\u001b[1;32m<ipython-input-8-f3be78299902>\u001b[0m in \u001b[0;36mall_year\u001b[1;34m(key)\u001b[0m\n\u001b[0;32m      2\u001b[0m     \u001b[1;32mwith\u001b[0m \u001b[0mProcessPoolExecutor\u001b[0m\u001b[1;33m(\u001b[0m\u001b[1;33m)\u001b[0m \u001b[1;32mas\u001b[0m \u001b[0mepool\u001b[0m\u001b[1;33m:\u001b[0m\u001b[1;33m\u001b[0m\u001b[1;33m\u001b[0m\u001b[0m\n\u001b[0;32m      3\u001b[0m         \u001b[0mmapped_values_year\u001b[0m \u001b[1;33m=\u001b[0m \u001b[0mepool\u001b[0m\u001b[1;33m.\u001b[0m\u001b[0mmap\u001b[0m\u001b[1;33m(\u001b[0m\u001b[0mmapper_year\u001b[0m\u001b[1;33m,\u001b[0m \u001b[0mkey\u001b[0m\u001b[1;33m)\u001b[0m\u001b[1;33m\u001b[0m\u001b[1;33m\u001b[0m\u001b[0m\n\u001b[1;32m----> 4\u001b[1;33m     \u001b[1;32mreturn\u001b[0m \u001b[0mpartitioner\u001b[0m\u001b[1;33m(\u001b[0m\u001b[0mmapped_values_year\u001b[0m\u001b[1;33m)\u001b[0m\u001b[1;33m\u001b[0m\u001b[1;33m\u001b[0m\u001b[0m\n\u001b[0m\u001b[0;32m      5\u001b[0m \u001b[1;33m\u001b[0m\u001b[0m\n\u001b[0;32m      6\u001b[0m \u001b[1;32mdef\u001b[0m \u001b[0mall_genre1\u001b[0m\u001b[1;33m(\u001b[0m\u001b[0mkey\u001b[0m\u001b[1;33m)\u001b[0m\u001b[1;33m:\u001b[0m\u001b[1;33m\u001b[0m\u001b[1;33m\u001b[0m\u001b[0m\n",
      "\u001b[1;32m<ipython-input-2-cbb3c8b44cf3>\u001b[0m in \u001b[0;36mpartitioner\u001b[1;34m(mapped_values)\u001b[0m\n\u001b[0;32m      6\u001b[0m \u001b[1;33m\u001b[0m\u001b[0m\n\u001b[0;32m      7\u001b[0m \u001b[1;32mdef\u001b[0m \u001b[0mpartitioner\u001b[0m\u001b[1;33m(\u001b[0m\u001b[0mmapped_values\u001b[0m\u001b[1;33m)\u001b[0m\u001b[1;33m:\u001b[0m\u001b[1;33m\u001b[0m\u001b[1;33m\u001b[0m\u001b[0m\n\u001b[1;32m----> 8\u001b[1;33m     \u001b[1;32mreturn\u001b[0m \u001b[0mlist\u001b[0m\u001b[1;33m(\u001b[0m\u001b[0mmapped_values\u001b[0m\u001b[1;33m)\u001b[0m\u001b[1;33m\u001b[0m\u001b[1;33m\u001b[0m\u001b[0m\n\u001b[0m",
      "\u001b[1;32mC:\\ProgramData\\Anaconda3\\lib\\site-packages\\loky\\process_executor.py\u001b[0m in \u001b[0;36m_chain_from_iterable_of_lists\u001b[1;34m(iterable)\u001b[0m\n\u001b[0;32m    792\u001b[0m     \u001b[0mcareful\u001b[0m \u001b[1;32mnot\u001b[0m \u001b[0mto\u001b[0m \u001b[0mkeep\u001b[0m \u001b[0mreferences\u001b[0m \u001b[0mto\u001b[0m \u001b[0myielded\u001b[0m \u001b[0mobjects\u001b[0m\u001b[1;33m.\u001b[0m\u001b[1;33m\u001b[0m\u001b[1;33m\u001b[0m\u001b[0m\n\u001b[0;32m    793\u001b[0m     \"\"\"\n\u001b[1;32m--> 794\u001b[1;33m     \u001b[1;32mfor\u001b[0m \u001b[0melement\u001b[0m \u001b[1;32min\u001b[0m \u001b[0miterable\u001b[0m\u001b[1;33m:\u001b[0m\u001b[1;33m\u001b[0m\u001b[1;33m\u001b[0m\u001b[0m\n\u001b[0m\u001b[0;32m    795\u001b[0m         \u001b[0melement\u001b[0m\u001b[1;33m.\u001b[0m\u001b[0mreverse\u001b[0m\u001b[1;33m(\u001b[0m\u001b[1;33m)\u001b[0m\u001b[1;33m\u001b[0m\u001b[1;33m\u001b[0m\u001b[0m\n\u001b[0;32m    796\u001b[0m         \u001b[1;32mwhile\u001b[0m \u001b[0melement\u001b[0m\u001b[1;33m:\u001b[0m\u001b[1;33m\u001b[0m\u001b[1;33m\u001b[0m\u001b[0m\n",
      "\u001b[1;32mC:\\ProgramData\\Anaconda3\\lib\\concurrent\\futures\\_base.py\u001b[0m in \u001b[0;36mresult_iterator\u001b[1;34m()\u001b[0m\n\u001b[0;32m    584\u001b[0m                     \u001b[1;31m# Careful not to keep a reference to the popped future\u001b[0m\u001b[1;33m\u001b[0m\u001b[1;33m\u001b[0m\u001b[1;33m\u001b[0m\u001b[0m\n\u001b[0;32m    585\u001b[0m                     \u001b[1;32mif\u001b[0m \u001b[0mtimeout\u001b[0m \u001b[1;32mis\u001b[0m \u001b[1;32mNone\u001b[0m\u001b[1;33m:\u001b[0m\u001b[1;33m\u001b[0m\u001b[1;33m\u001b[0m\u001b[0m\n\u001b[1;32m--> 586\u001b[1;33m                         \u001b[1;32myield\u001b[0m \u001b[0mfs\u001b[0m\u001b[1;33m.\u001b[0m\u001b[0mpop\u001b[0m\u001b[1;33m(\u001b[0m\u001b[1;33m)\u001b[0m\u001b[1;33m.\u001b[0m\u001b[0mresult\u001b[0m\u001b[1;33m(\u001b[0m\u001b[1;33m)\u001b[0m\u001b[1;33m\u001b[0m\u001b[1;33m\u001b[0m\u001b[0m\n\u001b[0m\u001b[0;32m    587\u001b[0m                     \u001b[1;32melse\u001b[0m\u001b[1;33m:\u001b[0m\u001b[1;33m\u001b[0m\u001b[1;33m\u001b[0m\u001b[0m\n\u001b[0;32m    588\u001b[0m                         \u001b[1;32myield\u001b[0m \u001b[0mfs\u001b[0m\u001b[1;33m.\u001b[0m\u001b[0mpop\u001b[0m\u001b[1;33m(\u001b[0m\u001b[1;33m)\u001b[0m\u001b[1;33m.\u001b[0m\u001b[0mresult\u001b[0m\u001b[1;33m(\u001b[0m\u001b[0mend_time\u001b[0m \u001b[1;33m-\u001b[0m \u001b[0mtime\u001b[0m\u001b[1;33m.\u001b[0m\u001b[0mmonotonic\u001b[0m\u001b[1;33m(\u001b[0m\u001b[1;33m)\u001b[0m\u001b[1;33m)\u001b[0m\u001b[1;33m\u001b[0m\u001b[1;33m\u001b[0m\u001b[0m\n",
      "\u001b[1;32mC:\\ProgramData\\Anaconda3\\lib\\concurrent\\futures\\_base.py\u001b[0m in \u001b[0;36mresult\u001b[1;34m(self, timeout)\u001b[0m\n\u001b[0;32m    423\u001b[0m                 \u001b[1;32mraise\u001b[0m \u001b[0mCancelledError\u001b[0m\u001b[1;33m(\u001b[0m\u001b[1;33m)\u001b[0m\u001b[1;33m\u001b[0m\u001b[1;33m\u001b[0m\u001b[0m\n\u001b[0;32m    424\u001b[0m             \u001b[1;32melif\u001b[0m \u001b[0mself\u001b[0m\u001b[1;33m.\u001b[0m\u001b[0m_state\u001b[0m \u001b[1;33m==\u001b[0m \u001b[0mFINISHED\u001b[0m\u001b[1;33m:\u001b[0m\u001b[1;33m\u001b[0m\u001b[1;33m\u001b[0m\u001b[0m\n\u001b[1;32m--> 425\u001b[1;33m                 \u001b[1;32mreturn\u001b[0m \u001b[0mself\u001b[0m\u001b[1;33m.\u001b[0m\u001b[0m__get_result\u001b[0m\u001b[1;33m(\u001b[0m\u001b[1;33m)\u001b[0m\u001b[1;33m\u001b[0m\u001b[1;33m\u001b[0m\u001b[0m\n\u001b[0m\u001b[0;32m    426\u001b[0m \u001b[1;33m\u001b[0m\u001b[0m\n\u001b[0;32m    427\u001b[0m             \u001b[0mself\u001b[0m\u001b[1;33m.\u001b[0m\u001b[0m_condition\u001b[0m\u001b[1;33m.\u001b[0m\u001b[0mwait\u001b[0m\u001b[1;33m(\u001b[0m\u001b[0mtimeout\u001b[0m\u001b[1;33m)\u001b[0m\u001b[1;33m\u001b[0m\u001b[1;33m\u001b[0m\u001b[0m\n",
      "\u001b[1;32mC:\\ProgramData\\Anaconda3\\lib\\concurrent\\futures\\_base.py\u001b[0m in \u001b[0;36m__get_result\u001b[1;34m(self)\u001b[0m\n\u001b[0;32m    382\u001b[0m     \u001b[1;32mdef\u001b[0m \u001b[0m__get_result\u001b[0m\u001b[1;33m(\u001b[0m\u001b[0mself\u001b[0m\u001b[1;33m)\u001b[0m\u001b[1;33m:\u001b[0m\u001b[1;33m\u001b[0m\u001b[1;33m\u001b[0m\u001b[0m\n\u001b[0;32m    383\u001b[0m         \u001b[1;32mif\u001b[0m \u001b[0mself\u001b[0m\u001b[1;33m.\u001b[0m\u001b[0m_exception\u001b[0m\u001b[1;33m:\u001b[0m\u001b[1;33m\u001b[0m\u001b[1;33m\u001b[0m\u001b[0m\n\u001b[1;32m--> 384\u001b[1;33m             \u001b[1;32mraise\u001b[0m \u001b[0mself\u001b[0m\u001b[1;33m.\u001b[0m\u001b[0m_exception\u001b[0m\u001b[1;33m\u001b[0m\u001b[1;33m\u001b[0m\u001b[0m\n\u001b[0m\u001b[0;32m    385\u001b[0m         \u001b[1;32melse\u001b[0m\u001b[1;33m:\u001b[0m\u001b[1;33m\u001b[0m\u001b[1;33m\u001b[0m\u001b[0m\n\u001b[0;32m    386\u001b[0m             \u001b[1;32mreturn\u001b[0m \u001b[0mself\u001b[0m\u001b[1;33m.\u001b[0m\u001b[0m_result\u001b[0m\u001b[1;33m\u001b[0m\u001b[1;33m\u001b[0m\u001b[0m\n",
      "\u001b[1;31mIndexError\u001b[0m: list index out of range"
     ]
    }
   ],
   "source": [
    "%%time\n",
    "ratings = all_rating_IMDb(urls_IMDb)\n",
    "ratings[:10]\n",
    "#(~3min5)"
   ]
  },
  {
   "cell_type": "markdown",
   "metadata": {},
   "source": [
    "# Création du dataframe"
   ]
  },
  {
   "cell_type": "code",
   "execution_count": 11,
   "metadata": {
    "collapsed": true
   },
   "outputs": [
    {
     "data": {
      "text/html": [
       "<div>\n",
       "<style scoped>\n",
       "    .dataframe tbody tr th:only-of-type {\n",
       "        vertical-align: middle;\n",
       "    }\n",
       "\n",
       "    .dataframe tbody tr th {\n",
       "        vertical-align: top;\n",
       "    }\n",
       "\n",
       "    .dataframe thead th {\n",
       "        text-align: right;\n",
       "    }\n",
       "</style>\n",
       "<table border=\"1\" class=\"dataframe\">\n",
       "  <thead>\n",
       "    <tr style=\"text-align: right;\">\n",
       "      <th></th>\n",
       "      <th>Titre</th>\n",
       "      <th>Genres Netflix</th>\n",
       "      <th>Genres Flixable</th>\n",
       "      <th>Tags Netflix</th>\n",
       "      <th>Lien Netflix</th>\n",
       "    </tr>\n",
       "  </thead>\n",
       "  <tbody>\n",
       "    <tr>\n",
       "      <th>0</th>\n",
       "      <td>¡Ay, mi madre!</td>\n",
       "      <td>Films espagnols|#|Comédies</td>\n",
       "      <td>Comédie|#|International</td>\n",
       "      <td>Sentimental</td>\n",
       "      <td>/title/80997613/</td>\n",
       "    </tr>\n",
       "    <tr>\n",
       "      <th>1</th>\n",
       "      <td>'71</td>\n",
       "      <td>Films british|#|Action et aventure|#|Action|#|...</td>\n",
       "      <td>Action|#|Drame|#|Indépendant</td>\n",
       "      <td>Violent</td>\n",
       "      <td>/title/70301585/</td>\n",
       "    </tr>\n",
       "    <tr>\n",
       "      <th>2</th>\n",
       "      <td>#Horror</td>\n",
       "      <td>Films d'horreur|#|Films indépendants</td>\n",
       "      <td>Horreur|#|Indépendant|#|Thriller</td>\n",
       "      <td>Suspense</td>\n",
       "      <td>/title/80074904/</td>\n",
       "    </tr>\n",
       "    <tr>\n",
       "      <th>3</th>\n",
       "      <td>#realityhigh</td>\n",
       "      <td>Films pour ados|#|Comédies</td>\n",
       "      <td>Comédie</td>\n",
       "      <td></td>\n",
       "      <td>/title/80125979/</td>\n",
       "    </tr>\n",
       "    <tr>\n",
       "      <th>4</th>\n",
       "      <td>#Rucker50</td>\n",
       "      <td>Documentaires|#|Docus société et culture|#|Doc...</td>\n",
       "      <td>Documentaires</td>\n",
       "      <td></td>\n",
       "      <td>/title/80147908/</td>\n",
       "    </tr>\n",
       "    <tr>\n",
       "      <th>5</th>\n",
       "      <td>#Selfie</td>\n",
       "      <td>Films pour ados|#|Films roumains|#|Comédies|#|...</td>\n",
       "      <td>Comédie|#|Drame|#|International</td>\n",
       "      <td></td>\n",
       "      <td>/title/81092768/</td>\n",
       "    </tr>\n",
       "    <tr>\n",
       "      <th>6</th>\n",
       "      <td>#Selfie 69</td>\n",
       "      <td>Films roumains|#|Comédies|#|Comédies romantiqu...</td>\n",
       "      <td>Comédie|#|Drame|#|International</td>\n",
       "      <td>Romantique</td>\n",
       "      <td>/title/81092766/</td>\n",
       "    </tr>\n",
       "    <tr>\n",
       "      <th>7</th>\n",
       "      <td>10 000</td>\n",
       "      <td>Action et aventure|#|Action|#|Aventure</td>\n",
       "      <td>Action</td>\n",
       "      <td>Montée d'adrénaline|#|Palpitant</td>\n",
       "      <td>/title/70060018/</td>\n",
       "    </tr>\n",
       "    <tr>\n",
       "      <th>8</th>\n",
       "      <td>10 Years</td>\n",
       "      <td>Comédies|#|Comédies romantiques|#|Drames|#|Dra...</td>\n",
       "      <td>Comédie|#|Drame|#|Indépendant</td>\n",
       "      <td>Romantique</td>\n",
       "      <td>/title/70212146/</td>\n",
       "    </tr>\n",
       "    <tr>\n",
       "      <th>9</th>\n",
       "      <td>100 mètres</td>\n",
       "      <td>Films inspirés de faits réels|#|Films espagnol...</td>\n",
       "      <td>Drame|#|International</td>\n",
       "      <td></td>\n",
       "      <td>/title/80141173/</td>\n",
       "    </tr>\n",
       "    <tr>\n",
       "      <th>10</th>\n",
       "      <td>1000 Rupee Note</td>\n",
       "      <td>Films indiens|#|Films en marathi|#|Drames|#|Dr...</td>\n",
       "      <td>Drame|#|International|#|Policier</td>\n",
       "      <td>NaN</td>\n",
       "      <td>/title/80113785/</td>\n",
       "    </tr>\n",
       "    <tr>\n",
       "      <th>11</th>\n",
       "      <td>127 Heures</td>\n",
       "      <td>Films inspirés de faits réels|#|Films inspirés...</td>\n",
       "      <td>Drame|#|Primés</td>\n",
       "      <td>Suspense</td>\n",
       "      <td>/title/70141813/</td>\n",
       "    </tr>\n",
       "    <tr>\n",
       "      <th>12</th>\n",
       "      <td>15 August</td>\n",
       "      <td>Films indiens|#|Films en marathi|#|Comédies|#|...</td>\n",
       "      <td>Comédie|#|Drame|#|Indépendant</td>\n",
       "      <td>Romantique</td>\n",
       "      <td>/title/81033429/</td>\n",
       "    </tr>\n",
       "    <tr>\n",
       "      <th>13</th>\n",
       "      <td>1922</td>\n",
       "      <td>Films inspirés de livres|#|Films policiers|#|T...</td>\n",
       "      <td>Drame|#|Policier|#|Thriller</td>\n",
       "      <td>Effrayant|#|Dramatique</td>\n",
       "      <td>/title/80135164/</td>\n",
       "    </tr>\n",
       "    <tr>\n",
       "      <th>14</th>\n",
       "      <td>1944, un tunnel en enfer</td>\n",
       "      <td>Documentaires|#|Documentaires sciences et tech...</td>\n",
       "      <td>Documentaires</td>\n",
       "      <td></td>\n",
       "      <td>/title/81121181/</td>\n",
       "    </tr>\n",
       "    <tr>\n",
       "      <th>15</th>\n",
       "      <td>2 Guns</td>\n",
       "      <td>Action et aventure|#|Action|#|Thrillers d'action</td>\n",
       "      <td>Action|#|Policier|#|Primés</td>\n",
       "      <td>Violent|#|Palpitant</td>\n",
       "      <td>/title/70270776/</td>\n",
       "    </tr>\n",
       "    <tr>\n",
       "      <th>16</th>\n",
       "      <td>2 States</td>\n",
       "      <td>Films inspirés de livres|#|Films indiens|#|Fil...</td>\n",
       "      <td>Comédie|#|Drame|#|International</td>\n",
       "      <td>Insolite|#|Émotion|#|Romantique</td>\n",
       "      <td>/title/70303426/</td>\n",
       "    </tr>\n",
       "    <tr>\n",
       "      <th>17</th>\n",
       "      <td>2012</td>\n",
       "      <td>Action et aventure|#|Action|#|Action, SF et fa...</td>\n",
       "      <td>Action|#|SF et fantastique</td>\n",
       "      <td>Palpitant</td>\n",
       "      <td>/title/70108779/</td>\n",
       "    </tr>\n",
       "    <tr>\n",
       "      <th>18</th>\n",
       "      <td>2015 Dream Concert</td>\n",
       "      <td>Films coréens|#|Musique et comédies musicales</td>\n",
       "      <td>International|#|Musique et comédies musicales</td>\n",
       "      <td>Palpitant</td>\n",
       "      <td>/title/80161826/</td>\n",
       "    </tr>\n",
       "    <tr>\n",
       "      <th>19</th>\n",
       "      <td>21 Jump Street</td>\n",
       "      <td>Action et aventure|#|Comédies d'action|#|Comédies</td>\n",
       "      <td>Action|#|Comédie|#|Policier</td>\n",
       "      <td>Humour décalé|#|Palpitant</td>\n",
       "      <td>/title/70208247/</td>\n",
       "    </tr>\n",
       "    <tr>\n",
       "      <th>20</th>\n",
       "      <td>22 Jump Street</td>\n",
       "      <td>Action et aventure|#|Comédies d'action|#|Comédies</td>\n",
       "      <td>Action|#|Comédie|#|Policier</td>\n",
       "      <td></td>\n",
       "      <td>/title/70298992/</td>\n",
       "    </tr>\n",
       "    <tr>\n",
       "      <th>21</th>\n",
       "      <td>26 Years</td>\n",
       "      <td>Films coréens|#|Thrillers</td>\n",
       "      <td>Drame|#|International|#|Thriller</td>\n",
       "      <td>Violent|#|Suspense</td>\n",
       "      <td>/title/80198771/</td>\n",
       "    </tr>\n",
       "    <tr>\n",
       "      <th>22</th>\n",
       "      <td>3 minutes ensemble</td>\n",
       "      <td>Films mexicains|#|Documentaires|#|Docus sociét...</td>\n",
       "      <td>Documentaires|#|International</td>\n",
       "      <td>Sentimental|#|Émotion</td>\n",
       "      <td>/title/80244679/</td>\n",
       "    </tr>\n",
       "    <tr>\n",
       "      <th>23</th>\n",
       "      <td>30 ans sinon rien</td>\n",
       "      <td>Films pour ados|#|Romances pour ados|#|Comédie...</td>\n",
       "      <td>Comédie|#|Romance</td>\n",
       "      <td>Bonne humeur|#|Romantique</td>\n",
       "      <td>/title/60034573/</td>\n",
       "    </tr>\n",
       "    <tr>\n",
       "      <th>24</th>\n",
       "      <td>30 Days of Luxury</td>\n",
       "      <td>Films du Moyen-Orient|#|Comédies</td>\n",
       "      <td>Comédie|#|International|#|Policier</td>\n",
       "      <td>Humour décalé</td>\n",
       "      <td>/title/81035844/</td>\n",
       "    </tr>\n",
       "    <tr>\n",
       "      <th>25</th>\n",
       "      <td>30 minutes maximum</td>\n",
       "      <td>Action et aventure|#|Comédies d'action|#|Comédies</td>\n",
       "      <td>Action|#|Comédie|#|Policier</td>\n",
       "      <td>Palpitant</td>\n",
       "      <td>/title/70167074/</td>\n",
       "    </tr>\n",
       "    <tr>\n",
       "      <th>26</th>\n",
       "      <td>300</td>\n",
       "      <td>Action et aventure|#|Action</td>\n",
       "      <td>Action</td>\n",
       "      <td>Violent</td>\n",
       "      <td>/title/70056440/</td>\n",
       "    </tr>\n",
       "    <tr>\n",
       "      <th>27</th>\n",
       "      <td>300 : La naissance d'un empire</td>\n",
       "      <td>Films inspirés de faits réels|#|Action et aven...</td>\n",
       "      <td>Action</td>\n",
       "      <td>Violent|#|Palpitant</td>\n",
       "      <td>/title/70269488/</td>\n",
       "    </tr>\n",
       "    <tr>\n",
       "      <th>28</th>\n",
       "      <td>48 vœux de Noël</td>\n",
       "      <td>Comédies pour la famille|#|Comédies|#|Films je...</td>\n",
       "      <td>Comédie|#|Jeunesse et famille</td>\n",
       "      <td></td>\n",
       "      <td>/title/80232740/</td>\n",
       "    </tr>\n",
       "    <tr>\n",
       "      <th>29</th>\n",
       "      <td>4L</td>\n",
       "      <td>Films espagnols|#|Comédies|#|Drames|#|Films in...</td>\n",
       "      <td>Comédie|#|Drame|#|Indépendant</td>\n",
       "      <td></td>\n",
       "      <td>/title/80221109/</td>\n",
       "    </tr>\n",
       "    <tr>\n",
       "      <th>...</th>\n",
       "      <td>...</td>\n",
       "      <td>...</td>\n",
       "      <td>...</td>\n",
       "      <td>...</td>\n",
       "      <td>...</td>\n",
       "    </tr>\n",
       "    <tr>\n",
       "      <th>2524</th>\n",
       "      <td>XOXO</td>\n",
       "      <td>Drames</td>\n",
       "      <td>Drame</td>\n",
       "      <td></td>\n",
       "      <td>/title/80057691/</td>\n",
       "    </tr>\n",
       "    <tr>\n",
       "      <th>2525</th>\n",
       "      <td>XX</td>\n",
       "      <td>Films d'horreur|#|Films d'horreur et surnaturel</td>\n",
       "      <td>Horreur</td>\n",
       "      <td></td>\n",
       "      <td>/title/80027041/</td>\n",
       "    </tr>\n",
       "    <tr>\n",
       "      <th>2526</th>\n",
       "      <td>Y a-t-il un flic pour sauver Hollywood ?</td>\n",
       "      <td>Comédies</td>\n",
       "      <td>Comédie</td>\n",
       "      <td>Absurde|#|Humour décalé</td>\n",
       "      <td>/title/60001809/</td>\n",
       "    </tr>\n",
       "    <tr>\n",
       "      <th>2527</th>\n",
       "      <td>Y a-t-il un flic pour sauver le président ?</td>\n",
       "      <td>Comédies</td>\n",
       "      <td>Comédie</td>\n",
       "      <td>Humour décalé</td>\n",
       "      <td>/title/60001808/</td>\n",
       "    </tr>\n",
       "    <tr>\n",
       "      <th>2528</th>\n",
       "      <td>Yakuza Apocalypze</td>\n",
       "      <td>Films japonais|#|Action et aventure|#|Action|#...</td>\n",
       "      <td>Action|#|Comédie|#|International</td>\n",
       "      <td>Absurde|#|Violent</td>\n",
       "      <td>/title/80076214/</td>\n",
       "    </tr>\n",
       "    <tr>\n",
       "      <th>2529</th>\n",
       "      <td>Yamakasi - Les samouraïs des temps modernes</td>\n",
       "      <td>Action et aventure|#|Action|#|Films français</td>\n",
       "      <td>Action|#|Français</td>\n",
       "      <td>Montée d'adrénaline|#|Palpitant</td>\n",
       "      <td>/title/80182484/</td>\n",
       "    </tr>\n",
       "    <tr>\n",
       "      <th>2530</th>\n",
       "      <td>Yamla Pagla Deewana 2</td>\n",
       "      <td>Films indiens|#|Films en hindi|#|Films de Boll...</td>\n",
       "      <td>Action|#|Comédie|#|International</td>\n",
       "      <td>Humour décalé</td>\n",
       "      <td>/title/70308135/</td>\n",
       "    </tr>\n",
       "    <tr>\n",
       "      <th>2531</th>\n",
       "      <td>Yes Man</td>\n",
       "      <td>Films inspirés de livres|#|Comédies|#|Comédies...</td>\n",
       "      <td>Comédie|#|Romance</td>\n",
       "      <td>Humour décalé|#|Romantique</td>\n",
       "      <td>/title/70100379/</td>\n",
       "    </tr>\n",
       "    <tr>\n",
       "      <th>2532</th>\n",
       "      <td>Yol Arkadasim</td>\n",
       "      <td>Films turcs|#|Comédies</td>\n",
       "      <td>Comédie|#|International</td>\n",
       "      <td>Humour décalé</td>\n",
       "      <td>/title/81043346/</td>\n",
       "    </tr>\n",
       "    <tr>\n",
       "      <th>2533</th>\n",
       "      <td>Yol Arkadaşım 2</td>\n",
       "      <td>Films turcs|#|Comédies</td>\n",
       "      <td>Comédie|#|International</td>\n",
       "      <td>Humour décalé</td>\n",
       "      <td>/title/81132439/</td>\n",
       "    </tr>\n",
       "    <tr>\n",
       "      <th>2534</th>\n",
       "      <td>Yoo Byung Jae: Discomfort Zone</td>\n",
       "      <td>Stand-up comique politiquement incorrect|#|Sta...</td>\n",
       "      <td>Stand-up et talk-shows</td>\n",
       "      <td>Ironique</td>\n",
       "      <td>/title/80223582/</td>\n",
       "    </tr>\n",
       "    <tr>\n",
       "      <th>2535</th>\n",
       "      <td>You Can’t Fight Christmas</td>\n",
       "      <td>Comédies|#|Comédies romantiques|#|Films romant...</td>\n",
       "      <td>Comédie|#|Romance</td>\n",
       "      <td>Romantique</td>\n",
       "      <td>/title/80206057/</td>\n",
       "    </tr>\n",
       "    <tr>\n",
       "      <th>2536</th>\n",
       "      <td>You Get Me</td>\n",
       "      <td>Films pour ados|#|Thrillers</td>\n",
       "      <td>Drame|#|Thriller</td>\n",
       "      <td>Suspense</td>\n",
       "      <td>/title/80155477/</td>\n",
       "    </tr>\n",
       "    <tr>\n",
       "      <th>2537</th>\n",
       "      <td>Yucatán</td>\n",
       "      <td>Films espagnols|#|Comédies</td>\n",
       "      <td>Comédie|#|International|#|Policier</td>\n",
       "      <td></td>\n",
       "      <td>/title/80988834/</td>\n",
       "    </tr>\n",
       "    <tr>\n",
       "      <th>2538</th>\n",
       "      <td>Zach Galifianakis: Live at the Purple Onion</td>\n",
       "      <td>Stand-up|#|Comédies</td>\n",
       "      <td>Stand-up et talk-shows</td>\n",
       "      <td>Absurde</td>\n",
       "      <td>/title/70039645/</td>\n",
       "    </tr>\n",
       "    <tr>\n",
       "      <th>2539</th>\n",
       "      <td>Zero</td>\n",
       "      <td>Films indiens|#|Films en hindi|#|Films de Boll...</td>\n",
       "      <td>Comédie|#|Drame|#|International</td>\n",
       "      <td>Insolite|#|Romantique</td>\n",
       "      <td>/title/81005364/</td>\n",
       "    </tr>\n",
       "    <tr>\n",
       "      <th>2540</th>\n",
       "      <td>Zero Dark Thirty</td>\n",
       "      <td>Action et aventure|#|Action|#|Thrillers d'action</td>\n",
       "      <td>Action|#|Drame|#|Primés</td>\n",
       "      <td>Suspense</td>\n",
       "      <td>/title/70251669/</td>\n",
       "    </tr>\n",
       "    <tr>\n",
       "      <th>2541</th>\n",
       "      <td>Zim l'envahisseur et le Florpus</td>\n",
       "      <td>Comédies pour la famille|#|Comédies|#|Films je...</td>\n",
       "      <td>Comédie|#|Jeunesse et famille|#|SF et fantastique</td>\n",
       "      <td>Insolite|#|Palpitant</td>\n",
       "      <td>/title/81091957/</td>\n",
       "    </tr>\n",
       "    <tr>\n",
       "      <th>2542</th>\n",
       "      <td>Zinzana</td>\n",
       "      <td>Films du Moyen-Orient|#|Films policiers|#|Thri...</td>\n",
       "      <td>Drame|#|International|#|Policier</td>\n",
       "      <td>Suspense</td>\n",
       "      <td>/title/80095233/</td>\n",
       "    </tr>\n",
       "    <tr>\n",
       "      <th>2543</th>\n",
       "      <td>Zion</td>\n",
       "      <td>Films biographiques|#|Documentaires|#|Document...</td>\n",
       "      <td>Documentaires</td>\n",
       "      <td></td>\n",
       "      <td>/title/80239831/</td>\n",
       "    </tr>\n",
       "    <tr>\n",
       "      <th>2544</th>\n",
       "      <td>Zip et Zap et l'île du Capitaine</td>\n",
       "      <td>Comédies pour la famille|#|Films espagnols|#|C...</td>\n",
       "      <td>Comédie|#|Jeunesse et famille</td>\n",
       "      <td>Palpitant</td>\n",
       "      <td>/title/80093104/</td>\n",
       "    </tr>\n",
       "    <tr>\n",
       "      <th>2545</th>\n",
       "      <td>Zoe</td>\n",
       "      <td>Films indépendants|#|Films romantiques|#|SF et...</td>\n",
       "      <td>Drame|#|Indépendant|#|Romance</td>\n",
       "      <td>Émotion|#|Romantique</td>\n",
       "      <td>/title/80175806/</td>\n",
       "    </tr>\n",
       "    <tr>\n",
       "      <th>2546</th>\n",
       "      <td>Zoe et Raven : La Saint-Valentin</td>\n",
       "      <td>Pour enfants|#|Séries pour la famille à voir e...</td>\n",
       "      <td>Drame</td>\n",
       "      <td></td>\n",
       "      <td>/title/81001413/</td>\n",
       "    </tr>\n",
       "    <tr>\n",
       "      <th>2547</th>\n",
       "      <td>Zoe et Raven : Noël ensemble</td>\n",
       "      <td>Pour enfants|#|Séries pour la famille à voir e...</td>\n",
       "      <td>Drame</td>\n",
       "      <td></td>\n",
       "      <td>/title/81001412/</td>\n",
       "    </tr>\n",
       "    <tr>\n",
       "      <th>2548</th>\n",
       "      <td>Zoolander 2</td>\n",
       "      <td>Action et aventure|#|Comédies d'action|#|Comédies</td>\n",
       "      <td>Action|#|Comédie</td>\n",
       "      <td>Absurde</td>\n",
       "      <td>/title/80075561/</td>\n",
       "    </tr>\n",
       "    <tr>\n",
       "      <th>2549</th>\n",
       "      <td>Zulu</td>\n",
       "      <td>Films inspirés de livres|#|Drames sociaux|#|Fi...</td>\n",
       "      <td>Drame|#|Français|#|International</td>\n",
       "      <td>Violent</td>\n",
       "      <td>/title/70275368/</td>\n",
       "    </tr>\n",
       "    <tr>\n",
       "      <th>2550</th>\n",
       "      <td>Æon Flux</td>\n",
       "      <td>Action et aventure|#|Action|#|Action, SF et fa...</td>\n",
       "      <td>Action|#|Policier|#|SF et fantastique</td>\n",
       "      <td></td>\n",
       "      <td>/title/70045919/</td>\n",
       "    </tr>\n",
       "    <tr>\n",
       "      <th>2551</th>\n",
       "      <td>Öldür Beni Sevgilim</td>\n",
       "      <td>Films turcs|#|Comédies|#|Comédies romantiques|...</td>\n",
       "      <td>Comédie|#|International|#|Romance</td>\n",
       "      <td>Romantique</td>\n",
       "      <td>/title/81132437/</td>\n",
       "    </tr>\n",
       "    <tr>\n",
       "      <th>2552</th>\n",
       "      <td>奇門遁甲</td>\n",
       "      <td>Films chinois|#|Action et aventure|#|Action|#|...</td>\n",
       "      <td>Action|#|International|#|SF et fantastique</td>\n",
       "      <td></td>\n",
       "      <td>/title/80226370/</td>\n",
       "    </tr>\n",
       "    <tr>\n",
       "      <th>2553</th>\n",
       "      <td>반드시 잡는다</td>\n",
       "      <td>Films coréens|#|Films policiers|#|Thrillers po...</td>\n",
       "      <td>Drame|#|International|#|Policier</td>\n",
       "      <td></td>\n",
       "      <td>/title/80226357/</td>\n",
       "    </tr>\n",
       "  </tbody>\n",
       "</table>\n",
       "<p>2554 rows × 5 columns</p>\n",
       "</div>"
      ],
      "text/plain": [
       "                                            Titre  \\\n",
       "0                                  ¡Ay, mi madre!   \n",
       "1                                             '71   \n",
       "2                                         #Horror   \n",
       "3                                    #realityhigh   \n",
       "4                                       #Rucker50   \n",
       "5                                         #Selfie   \n",
       "6                                      #Selfie 69   \n",
       "7                                          10 000   \n",
       "8                                        10 Years   \n",
       "9                                      100 mètres   \n",
       "10                                1000 Rupee Note   \n",
       "11                                     127 Heures   \n",
       "12                                      15 August   \n",
       "13                                           1922   \n",
       "14                       1944, un tunnel en enfer   \n",
       "15                                         2 Guns   \n",
       "16                                       2 States   \n",
       "17                                           2012   \n",
       "18                             2015 Dream Concert   \n",
       "19                                 21 Jump Street   \n",
       "20                                 22 Jump Street   \n",
       "21                                       26 Years   \n",
       "22                             3 minutes ensemble   \n",
       "23                              30 ans sinon rien   \n",
       "24                              30 Days of Luxury   \n",
       "25                             30 minutes maximum   \n",
       "26                                            300   \n",
       "27                 300 : La naissance d'un empire   \n",
       "28                                48 vœux de Noël   \n",
       "29                                             4L   \n",
       "...                                           ...   \n",
       "2524                                         XOXO   \n",
       "2525                                           XX   \n",
       "2526     Y a-t-il un flic pour sauver Hollywood ?   \n",
       "2527  Y a-t-il un flic pour sauver le président ?   \n",
       "2528                            Yakuza Apocalypze   \n",
       "2529  Yamakasi - Les samouraïs des temps modernes   \n",
       "2530                        Yamla Pagla Deewana 2   \n",
       "2531                                      Yes Man   \n",
       "2532                                Yol Arkadasim   \n",
       "2533                              Yol Arkadaşım 2   \n",
       "2534               Yoo Byung Jae: Discomfort Zone   \n",
       "2535                    You Can’t Fight Christmas   \n",
       "2536                                   You Get Me   \n",
       "2537                                      Yucatán   \n",
       "2538  Zach Galifianakis: Live at the Purple Onion   \n",
       "2539                                         Zero   \n",
       "2540                             Zero Dark Thirty   \n",
       "2541              Zim l'envahisseur et le Florpus   \n",
       "2542                                      Zinzana   \n",
       "2543                                         Zion   \n",
       "2544             Zip et Zap et l'île du Capitaine   \n",
       "2545                                          Zoe   \n",
       "2546             Zoe et Raven : La Saint-Valentin   \n",
       "2547                 Zoe et Raven : Noël ensemble   \n",
       "2548                                  Zoolander 2   \n",
       "2549                                         Zulu   \n",
       "2550                                     Æon Flux   \n",
       "2551                          Öldür Beni Sevgilim   \n",
       "2552                                         奇門遁甲   \n",
       "2553                                      반드시 잡는다   \n",
       "\n",
       "                                         Genres Netflix  \\\n",
       "0                            Films espagnols|#|Comédies   \n",
       "1     Films british|#|Action et aventure|#|Action|#|...   \n",
       "2                  Films d'horreur|#|Films indépendants   \n",
       "3                            Films pour ados|#|Comédies   \n",
       "4     Documentaires|#|Docus société et culture|#|Doc...   \n",
       "5     Films pour ados|#|Films roumains|#|Comédies|#|...   \n",
       "6     Films roumains|#|Comédies|#|Comédies romantiqu...   \n",
       "7                Action et aventure|#|Action|#|Aventure   \n",
       "8     Comédies|#|Comédies romantiques|#|Drames|#|Dra...   \n",
       "9     Films inspirés de faits réels|#|Films espagnol...   \n",
       "10    Films indiens|#|Films en marathi|#|Drames|#|Dr...   \n",
       "11    Films inspirés de faits réels|#|Films inspirés...   \n",
       "12    Films indiens|#|Films en marathi|#|Comédies|#|...   \n",
       "13    Films inspirés de livres|#|Films policiers|#|T...   \n",
       "14    Documentaires|#|Documentaires sciences et tech...   \n",
       "15     Action et aventure|#|Action|#|Thrillers d'action   \n",
       "16    Films inspirés de livres|#|Films indiens|#|Fil...   \n",
       "17    Action et aventure|#|Action|#|Action, SF et fa...   \n",
       "18        Films coréens|#|Musique et comédies musicales   \n",
       "19    Action et aventure|#|Comédies d'action|#|Comédies   \n",
       "20    Action et aventure|#|Comédies d'action|#|Comédies   \n",
       "21                            Films coréens|#|Thrillers   \n",
       "22    Films mexicains|#|Documentaires|#|Docus sociét...   \n",
       "23    Films pour ados|#|Romances pour ados|#|Comédie...   \n",
       "24                     Films du Moyen-Orient|#|Comédies   \n",
       "25    Action et aventure|#|Comédies d'action|#|Comédies   \n",
       "26                          Action et aventure|#|Action   \n",
       "27    Films inspirés de faits réels|#|Action et aven...   \n",
       "28    Comédies pour la famille|#|Comédies|#|Films je...   \n",
       "29    Films espagnols|#|Comédies|#|Drames|#|Films in...   \n",
       "...                                                 ...   \n",
       "2524                                             Drames   \n",
       "2525    Films d'horreur|#|Films d'horreur et surnaturel   \n",
       "2526                                           Comédies   \n",
       "2527                                           Comédies   \n",
       "2528  Films japonais|#|Action et aventure|#|Action|#...   \n",
       "2529       Action et aventure|#|Action|#|Films français   \n",
       "2530  Films indiens|#|Films en hindi|#|Films de Boll...   \n",
       "2531  Films inspirés de livres|#|Comédies|#|Comédies...   \n",
       "2532                             Films turcs|#|Comédies   \n",
       "2533                             Films turcs|#|Comédies   \n",
       "2534  Stand-up comique politiquement incorrect|#|Sta...   \n",
       "2535  Comédies|#|Comédies romantiques|#|Films romant...   \n",
       "2536                        Films pour ados|#|Thrillers   \n",
       "2537                         Films espagnols|#|Comédies   \n",
       "2538                                Stand-up|#|Comédies   \n",
       "2539  Films indiens|#|Films en hindi|#|Films de Boll...   \n",
       "2540   Action et aventure|#|Action|#|Thrillers d'action   \n",
       "2541  Comédies pour la famille|#|Comédies|#|Films je...   \n",
       "2542  Films du Moyen-Orient|#|Films policiers|#|Thri...   \n",
       "2543  Films biographiques|#|Documentaires|#|Document...   \n",
       "2544  Comédies pour la famille|#|Films espagnols|#|C...   \n",
       "2545  Films indépendants|#|Films romantiques|#|SF et...   \n",
       "2546  Pour enfants|#|Séries pour la famille à voir e...   \n",
       "2547  Pour enfants|#|Séries pour la famille à voir e...   \n",
       "2548  Action et aventure|#|Comédies d'action|#|Comédies   \n",
       "2549  Films inspirés de livres|#|Drames sociaux|#|Fi...   \n",
       "2550  Action et aventure|#|Action|#|Action, SF et fa...   \n",
       "2551  Films turcs|#|Comédies|#|Comédies romantiques|...   \n",
       "2552  Films chinois|#|Action et aventure|#|Action|#|...   \n",
       "2553  Films coréens|#|Films policiers|#|Thrillers po...   \n",
       "\n",
       "                                        Genres Flixable  \\\n",
       "0                               Comédie|#|International   \n",
       "1                          Action|#|Drame|#|Indépendant   \n",
       "2                      Horreur|#|Indépendant|#|Thriller   \n",
       "3                                               Comédie   \n",
       "4                                         Documentaires   \n",
       "5                       Comédie|#|Drame|#|International   \n",
       "6                       Comédie|#|Drame|#|International   \n",
       "7                                                Action   \n",
       "8                         Comédie|#|Drame|#|Indépendant   \n",
       "9                                 Drame|#|International   \n",
       "10                     Drame|#|International|#|Policier   \n",
       "11                                       Drame|#|Primés   \n",
       "12                        Comédie|#|Drame|#|Indépendant   \n",
       "13                          Drame|#|Policier|#|Thriller   \n",
       "14                                        Documentaires   \n",
       "15                           Action|#|Policier|#|Primés   \n",
       "16                      Comédie|#|Drame|#|International   \n",
       "17                           Action|#|SF et fantastique   \n",
       "18        International|#|Musique et comédies musicales   \n",
       "19                          Action|#|Comédie|#|Policier   \n",
       "20                          Action|#|Comédie|#|Policier   \n",
       "21                     Drame|#|International|#|Thriller   \n",
       "22                        Documentaires|#|International   \n",
       "23                                    Comédie|#|Romance   \n",
       "24                   Comédie|#|International|#|Policier   \n",
       "25                          Action|#|Comédie|#|Policier   \n",
       "26                                               Action   \n",
       "27                                               Action   \n",
       "28                        Comédie|#|Jeunesse et famille   \n",
       "29                        Comédie|#|Drame|#|Indépendant   \n",
       "...                                                 ...   \n",
       "2524                                              Drame   \n",
       "2525                                            Horreur   \n",
       "2526                                            Comédie   \n",
       "2527                                            Comédie   \n",
       "2528                   Action|#|Comédie|#|International   \n",
       "2529                                  Action|#|Français   \n",
       "2530                   Action|#|Comédie|#|International   \n",
       "2531                                  Comédie|#|Romance   \n",
       "2532                            Comédie|#|International   \n",
       "2533                            Comédie|#|International   \n",
       "2534                             Stand-up et talk-shows   \n",
       "2535                                  Comédie|#|Romance   \n",
       "2536                                   Drame|#|Thriller   \n",
       "2537                 Comédie|#|International|#|Policier   \n",
       "2538                             Stand-up et talk-shows   \n",
       "2539                    Comédie|#|Drame|#|International   \n",
       "2540                            Action|#|Drame|#|Primés   \n",
       "2541  Comédie|#|Jeunesse et famille|#|SF et fantastique   \n",
       "2542                   Drame|#|International|#|Policier   \n",
       "2543                                      Documentaires   \n",
       "2544                      Comédie|#|Jeunesse et famille   \n",
       "2545                      Drame|#|Indépendant|#|Romance   \n",
       "2546                                              Drame   \n",
       "2547                                              Drame   \n",
       "2548                                   Action|#|Comédie   \n",
       "2549                   Drame|#|Français|#|International   \n",
       "2550              Action|#|Policier|#|SF et fantastique   \n",
       "2551                  Comédie|#|International|#|Romance   \n",
       "2552         Action|#|International|#|SF et fantastique   \n",
       "2553                   Drame|#|International|#|Policier   \n",
       "\n",
       "                         Tags Netflix      Lien Netflix  \n",
       "0                         Sentimental  /title/80997613/  \n",
       "1                             Violent  /title/70301585/  \n",
       "2                            Suspense  /title/80074904/  \n",
       "3                                      /title/80125979/  \n",
       "4                                      /title/80147908/  \n",
       "5                                      /title/81092768/  \n",
       "6                          Romantique  /title/81092766/  \n",
       "7     Montée d'adrénaline|#|Palpitant  /title/70060018/  \n",
       "8                          Romantique  /title/70212146/  \n",
       "9                                      /title/80141173/  \n",
       "10                                NaN  /title/80113785/  \n",
       "11                           Suspense  /title/70141813/  \n",
       "12                         Romantique  /title/81033429/  \n",
       "13             Effrayant|#|Dramatique  /title/80135164/  \n",
       "14                                     /title/81121181/  \n",
       "15                Violent|#|Palpitant  /title/70270776/  \n",
       "16    Insolite|#|Émotion|#|Romantique  /title/70303426/  \n",
       "17                          Palpitant  /title/70108779/  \n",
       "18                          Palpitant  /title/80161826/  \n",
       "19          Humour décalé|#|Palpitant  /title/70208247/  \n",
       "20                                     /title/70298992/  \n",
       "21                 Violent|#|Suspense  /title/80198771/  \n",
       "22              Sentimental|#|Émotion  /title/80244679/  \n",
       "23          Bonne humeur|#|Romantique  /title/60034573/  \n",
       "24                      Humour décalé  /title/81035844/  \n",
       "25                          Palpitant  /title/70167074/  \n",
       "26                            Violent  /title/70056440/  \n",
       "27                Violent|#|Palpitant  /title/70269488/  \n",
       "28                                     /title/80232740/  \n",
       "29                                     /title/80221109/  \n",
       "...                               ...               ...  \n",
       "2524                                   /title/80057691/  \n",
       "2525                                   /title/80027041/  \n",
       "2526          Absurde|#|Humour décalé  /title/60001809/  \n",
       "2527                    Humour décalé  /title/60001808/  \n",
       "2528                Absurde|#|Violent  /title/80076214/  \n",
       "2529  Montée d'adrénaline|#|Palpitant  /title/80182484/  \n",
       "2530                    Humour décalé  /title/70308135/  \n",
       "2531       Humour décalé|#|Romantique  /title/70100379/  \n",
       "2532                    Humour décalé  /title/81043346/  \n",
       "2533                    Humour décalé  /title/81132439/  \n",
       "2534                         Ironique  /title/80223582/  \n",
       "2535                       Romantique  /title/80206057/  \n",
       "2536                         Suspense  /title/80155477/  \n",
       "2537                                   /title/80988834/  \n",
       "2538                          Absurde  /title/70039645/  \n",
       "2539            Insolite|#|Romantique  /title/81005364/  \n",
       "2540                         Suspense  /title/70251669/  \n",
       "2541             Insolite|#|Palpitant  /title/81091957/  \n",
       "2542                         Suspense  /title/80095233/  \n",
       "2543                                   /title/80239831/  \n",
       "2544                        Palpitant  /title/80093104/  \n",
       "2545             Émotion|#|Romantique  /title/80175806/  \n",
       "2546                                   /title/81001413/  \n",
       "2547                                   /title/81001412/  \n",
       "2548                          Absurde  /title/80075561/  \n",
       "2549                          Violent  /title/70275368/  \n",
       "2550                                   /title/70045919/  \n",
       "2551                       Romantique  /title/81132437/  \n",
       "2552                                   /title/80226370/  \n",
       "2553                                   /title/80226357/  \n",
       "\n",
       "[2554 rows x 5 columns]"
      ]
     },
     "execution_count": 11,
     "metadata": {},
     "output_type": "execute_result"
    }
   ],
   "source": [
    "data = {\"Titre\": title, \"Genres Netflix\" : genres,\n",
    "        \"Tags Netflix\" : tags, \"Casting\" : casting,\n",
    "        \"Note IMDb\" : ratings, \"Films/Séries liés\" : relative,\n",
    "        \"Date d'ajout\" : date_ajout, \"Lien Netflix\" : numero_titres}\n",
    "\n",
    "BDD_Netflix = pd.DataFrame(data)\n",
    "BDD_Netflix"
   ]
  },
  {
   "cell_type": "code",
   "execution_count": null,
   "metadata": {},
   "outputs": [],
   "source": [
    "def string_to_datetime(valeur):\n",
    "    return datetime.strptime(valeur, '%d/%m/%Y')\n",
    "\n",
    "BDD_Netflix[\"Date d'ajout\"] = BDD_Netflix[\"Date d'ajout\"].apply(string_to_datetime)       "
   ]
  },
  {
   "cell_type": "code",
   "execution_count": null,
   "metadata": {},
   "outputs": [],
   "source": [
    "def list_to_string(valeur):\n",
    "    if valeur==\"\":\n",
    "        return np.nan\n",
    "    else:\n",
    "        return valeur\n",
    "\n",
    "BDD_Netflix[\"Tags Netflix\"] = BDD_Netflix[\"Tags Netflix\"].apply(list_to_string)\n",
    "BDD_Netflix[\"Note IMDb\"] = BDD_Netflix[\"Note IMDb\"].apply(list_to_string)"
   ]
  },
  {
   "cell_type": "markdown",
   "metadata": {},
   "source": [
    "# Exportation en `csv` et `pickle`"
   ]
  },
  {
   "cell_type": "code",
   "execution_count": 12,
   "metadata": {},
   "outputs": [],
   "source": [
    "BDD_Netflix.to_csv('BDD Netflix.csv', sep = ';', index = False, encoding = 'utf-8', na_rep = 'NA')"
   ]
  },
  {
   "cell_type": "code",
   "execution_count": 13,
   "metadata": {},
   "outputs": [],
   "source": [
    "BDD_Netflix.to_pickle('BDD Netflix.pkl')"
   ]
  },
  {
   "cell_type": "markdown",
   "metadata": {},
   "source": [
    "***Notre base de données s'arrête au 24 novembre 2019.***"
   ]
  },
  {
   "cell_type": "markdown",
   "metadata": {},
   "source": [
    "# Sources"
   ]
  },
  {
   "cell_type": "markdown",
   "metadata": {},
   "source": [
    "- https://fr.flixable.com/?min-rating=0&min-year=1920&max-year=2020&order=title#filterContainer\n",
    "\n",
    "\n",
    "- https://www.netflix.com/fr/\n",
    "\n",
    "\n",
    "- http://akul.me/blog/2016/beautifulsoup-cheatsheet/"
   ]
  }
 ],
 "metadata": {
  "kernelspec": {
   "display_name": "Python 3",
   "language": "python",
   "name": "python3"
  },
  "language_info": {
   "codemirror_mode": {
    "name": "ipython",
    "version": 3
   },
   "file_extension": ".py",
   "mimetype": "text/x-python",
   "name": "python",
   "nbconvert_exporter": "python",
   "pygments_lexer": "ipython3",
   "version": "3.7.3"
  }
 },
 "nbformat": 4,
 "nbformat_minor": 4
}
